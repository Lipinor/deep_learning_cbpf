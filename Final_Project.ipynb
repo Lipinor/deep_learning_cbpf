{
  "nbformat": 4,
  "nbformat_minor": 0,
  "metadata": {
    "colab": {
      "name": "Final_Project.ipynb",
      "provenance": [],
      "authorship_tag": "ABX9TyPfqnuWoZOTnqNpZ/q8z5tO",
      "include_colab_link": true
    },
    "kernelspec": {
      "name": "python3",
      "display_name": "Python 3"
    }
  },
  "cells": [
    {
      "cell_type": "markdown",
      "metadata": {
        "id": "view-in-github",
        "colab_type": "text"
      },
      "source": [
        "<a href=\"https://colab.research.google.com/github/Lipinor/deep_learning_cbpf/blob/master/Final_Project.ipynb\" target=\"_parent\"><img src=\"https://colab.research.google.com/assets/colab-badge.svg\" alt=\"Open In Colab\"/></a>"
      ]
    },
    {
      "cell_type": "markdown",
      "metadata": {
        "id": "obmn95LAj0RN"
      },
      "source": [
        "#Final Project\n",
        "\n",
        "Final project for the Neural Network subject.\n",
        "\n",
        "#Setup\n",
        "\n",
        "Importing the necessary libraries:"
      ]
    },
    {
      "cell_type": "code",
      "metadata": {
        "id": "dDeKwbJwjyrs"
      },
      "source": [
        "import tensorflow as tf\n",
        "from tensorflow import keras\n",
        "\n",
        "import os\n",
        "import tempfile\n",
        "\n",
        "import matplotlib as mpl\n",
        "import matplotlib.pyplot as plt\n",
        "import numpy as np\n",
        "import pandas as pd\n",
        "import seaborn as sns\n",
        "\n",
        "import sklearn\n",
        "from sklearn.metrics import confusion_matrix\n",
        "from sklearn.model_selection import train_test_split\n",
        "from sklearn.preprocessing import StandardScaler"
      ],
      "execution_count": null,
      "outputs": []
    },
    {
      "cell_type": "markdown",
      "metadata": {
        "id": "Oep5Q3CY3LJz"
      },
      "source": [
        "#Dataset\n",
        "\n",
        "Here we download the dataset from Kaggle:"
      ]
    },
    {
      "cell_type": "code",
      "metadata": {
        "id": "Gt1MgMgm2ZsB",
        "outputId": "8f9d153b-b2df-4c68-e133-89cf8d476b64",
        "colab": {
          "base_uri": "https://localhost:8080/",
          "height": 215
        }
      },
      "source": [
        "file = tf.keras.utils\n",
        "raw_df = pd.read_csv('https://storage.googleapis.com/download.tensorflow.org/data/creditcard.csv')\n",
        "raw_df.head()"
      ],
      "execution_count": null,
      "outputs": [
        {
          "output_type": "execute_result",
          "data": {
            "text/html": [
              "<div>\n",
              "<style scoped>\n",
              "    .dataframe tbody tr th:only-of-type {\n",
              "        vertical-align: middle;\n",
              "    }\n",
              "\n",
              "    .dataframe tbody tr th {\n",
              "        vertical-align: top;\n",
              "    }\n",
              "\n",
              "    .dataframe thead th {\n",
              "        text-align: right;\n",
              "    }\n",
              "</style>\n",
              "<table border=\"1\" class=\"dataframe\">\n",
              "  <thead>\n",
              "    <tr style=\"text-align: right;\">\n",
              "      <th></th>\n",
              "      <th>Time</th>\n",
              "      <th>V1</th>\n",
              "      <th>V2</th>\n",
              "      <th>V3</th>\n",
              "      <th>V4</th>\n",
              "      <th>V5</th>\n",
              "      <th>V6</th>\n",
              "      <th>V7</th>\n",
              "      <th>V8</th>\n",
              "      <th>V9</th>\n",
              "      <th>V10</th>\n",
              "      <th>V11</th>\n",
              "      <th>V12</th>\n",
              "      <th>V13</th>\n",
              "      <th>V14</th>\n",
              "      <th>V15</th>\n",
              "      <th>V16</th>\n",
              "      <th>V17</th>\n",
              "      <th>V18</th>\n",
              "      <th>V19</th>\n",
              "      <th>V20</th>\n",
              "      <th>V21</th>\n",
              "      <th>V22</th>\n",
              "      <th>V23</th>\n",
              "      <th>V24</th>\n",
              "      <th>V25</th>\n",
              "      <th>V26</th>\n",
              "      <th>V27</th>\n",
              "      <th>V28</th>\n",
              "      <th>Amount</th>\n",
              "      <th>Class</th>\n",
              "    </tr>\n",
              "  </thead>\n",
              "  <tbody>\n",
              "    <tr>\n",
              "      <th>0</th>\n",
              "      <td>0.0</td>\n",
              "      <td>-1.359807</td>\n",
              "      <td>-0.072781</td>\n",
              "      <td>2.536347</td>\n",
              "      <td>1.378155</td>\n",
              "      <td>-0.338321</td>\n",
              "      <td>0.462388</td>\n",
              "      <td>0.239599</td>\n",
              "      <td>0.098698</td>\n",
              "      <td>0.363787</td>\n",
              "      <td>0.090794</td>\n",
              "      <td>-0.551600</td>\n",
              "      <td>-0.617801</td>\n",
              "      <td>-0.991390</td>\n",
              "      <td>-0.311169</td>\n",
              "      <td>1.468177</td>\n",
              "      <td>-0.470401</td>\n",
              "      <td>0.207971</td>\n",
              "      <td>0.025791</td>\n",
              "      <td>0.403993</td>\n",
              "      <td>0.251412</td>\n",
              "      <td>-0.018307</td>\n",
              "      <td>0.277838</td>\n",
              "      <td>-0.110474</td>\n",
              "      <td>0.066928</td>\n",
              "      <td>0.128539</td>\n",
              "      <td>-0.189115</td>\n",
              "      <td>0.133558</td>\n",
              "      <td>-0.021053</td>\n",
              "      <td>149.62</td>\n",
              "      <td>0</td>\n",
              "    </tr>\n",
              "    <tr>\n",
              "      <th>1</th>\n",
              "      <td>0.0</td>\n",
              "      <td>1.191857</td>\n",
              "      <td>0.266151</td>\n",
              "      <td>0.166480</td>\n",
              "      <td>0.448154</td>\n",
              "      <td>0.060018</td>\n",
              "      <td>-0.082361</td>\n",
              "      <td>-0.078803</td>\n",
              "      <td>0.085102</td>\n",
              "      <td>-0.255425</td>\n",
              "      <td>-0.166974</td>\n",
              "      <td>1.612727</td>\n",
              "      <td>1.065235</td>\n",
              "      <td>0.489095</td>\n",
              "      <td>-0.143772</td>\n",
              "      <td>0.635558</td>\n",
              "      <td>0.463917</td>\n",
              "      <td>-0.114805</td>\n",
              "      <td>-0.183361</td>\n",
              "      <td>-0.145783</td>\n",
              "      <td>-0.069083</td>\n",
              "      <td>-0.225775</td>\n",
              "      <td>-0.638672</td>\n",
              "      <td>0.101288</td>\n",
              "      <td>-0.339846</td>\n",
              "      <td>0.167170</td>\n",
              "      <td>0.125895</td>\n",
              "      <td>-0.008983</td>\n",
              "      <td>0.014724</td>\n",
              "      <td>2.69</td>\n",
              "      <td>0</td>\n",
              "    </tr>\n",
              "    <tr>\n",
              "      <th>2</th>\n",
              "      <td>1.0</td>\n",
              "      <td>-1.358354</td>\n",
              "      <td>-1.340163</td>\n",
              "      <td>1.773209</td>\n",
              "      <td>0.379780</td>\n",
              "      <td>-0.503198</td>\n",
              "      <td>1.800499</td>\n",
              "      <td>0.791461</td>\n",
              "      <td>0.247676</td>\n",
              "      <td>-1.514654</td>\n",
              "      <td>0.207643</td>\n",
              "      <td>0.624501</td>\n",
              "      <td>0.066084</td>\n",
              "      <td>0.717293</td>\n",
              "      <td>-0.165946</td>\n",
              "      <td>2.345865</td>\n",
              "      <td>-2.890083</td>\n",
              "      <td>1.109969</td>\n",
              "      <td>-0.121359</td>\n",
              "      <td>-2.261857</td>\n",
              "      <td>0.524980</td>\n",
              "      <td>0.247998</td>\n",
              "      <td>0.771679</td>\n",
              "      <td>0.909412</td>\n",
              "      <td>-0.689281</td>\n",
              "      <td>-0.327642</td>\n",
              "      <td>-0.139097</td>\n",
              "      <td>-0.055353</td>\n",
              "      <td>-0.059752</td>\n",
              "      <td>378.66</td>\n",
              "      <td>0</td>\n",
              "    </tr>\n",
              "    <tr>\n",
              "      <th>3</th>\n",
              "      <td>1.0</td>\n",
              "      <td>-0.966272</td>\n",
              "      <td>-0.185226</td>\n",
              "      <td>1.792993</td>\n",
              "      <td>-0.863291</td>\n",
              "      <td>-0.010309</td>\n",
              "      <td>1.247203</td>\n",
              "      <td>0.237609</td>\n",
              "      <td>0.377436</td>\n",
              "      <td>-1.387024</td>\n",
              "      <td>-0.054952</td>\n",
              "      <td>-0.226487</td>\n",
              "      <td>0.178228</td>\n",
              "      <td>0.507757</td>\n",
              "      <td>-0.287924</td>\n",
              "      <td>-0.631418</td>\n",
              "      <td>-1.059647</td>\n",
              "      <td>-0.684093</td>\n",
              "      <td>1.965775</td>\n",
              "      <td>-1.232622</td>\n",
              "      <td>-0.208038</td>\n",
              "      <td>-0.108300</td>\n",
              "      <td>0.005274</td>\n",
              "      <td>-0.190321</td>\n",
              "      <td>-1.175575</td>\n",
              "      <td>0.647376</td>\n",
              "      <td>-0.221929</td>\n",
              "      <td>0.062723</td>\n",
              "      <td>0.061458</td>\n",
              "      <td>123.50</td>\n",
              "      <td>0</td>\n",
              "    </tr>\n",
              "    <tr>\n",
              "      <th>4</th>\n",
              "      <td>2.0</td>\n",
              "      <td>-1.158233</td>\n",
              "      <td>0.877737</td>\n",
              "      <td>1.548718</td>\n",
              "      <td>0.403034</td>\n",
              "      <td>-0.407193</td>\n",
              "      <td>0.095921</td>\n",
              "      <td>0.592941</td>\n",
              "      <td>-0.270533</td>\n",
              "      <td>0.817739</td>\n",
              "      <td>0.753074</td>\n",
              "      <td>-0.822843</td>\n",
              "      <td>0.538196</td>\n",
              "      <td>1.345852</td>\n",
              "      <td>-1.119670</td>\n",
              "      <td>0.175121</td>\n",
              "      <td>-0.451449</td>\n",
              "      <td>-0.237033</td>\n",
              "      <td>-0.038195</td>\n",
              "      <td>0.803487</td>\n",
              "      <td>0.408542</td>\n",
              "      <td>-0.009431</td>\n",
              "      <td>0.798278</td>\n",
              "      <td>-0.137458</td>\n",
              "      <td>0.141267</td>\n",
              "      <td>-0.206010</td>\n",
              "      <td>0.502292</td>\n",
              "      <td>0.219422</td>\n",
              "      <td>0.215153</td>\n",
              "      <td>69.99</td>\n",
              "      <td>0</td>\n",
              "    </tr>\n",
              "  </tbody>\n",
              "</table>\n",
              "</div>"
            ],
            "text/plain": [
              "   Time        V1        V2        V3  ...       V27       V28  Amount  Class\n",
              "0   0.0 -1.359807 -0.072781  2.536347  ...  0.133558 -0.021053  149.62      0\n",
              "1   0.0  1.191857  0.266151  0.166480  ... -0.008983  0.014724    2.69      0\n",
              "2   1.0 -1.358354 -1.340163  1.773209  ... -0.055353 -0.059752  378.66      0\n",
              "3   1.0 -0.966272 -0.185226  1.792993  ...  0.062723  0.061458  123.50      0\n",
              "4   2.0 -1.158233  0.877737  1.548718  ...  0.219422  0.215153   69.99      0\n",
              "\n",
              "[5 rows x 31 columns]"
            ]
          },
          "metadata": {
            "tags": []
          },
          "execution_count": 396
        }
      ]
    },
    {
      "cell_type": "markdown",
      "metadata": {
        "id": "9ANc05ch3Rtb"
      },
      "source": [
        "This dataset is composed of credit card transactions made in September 2013 by european customers. The feature 'Time' is the time elapsed between a given transaction and the first one in the dataset (in seconds), 'Amount' is the amount of the transaction, and features 'V1' to 'V28' are numerical input variables whose background is unknown due to confidentiality issues. The classes are 0 (not fraud, or negative) and 1 (fraud, or positive).\n",
        "\n",
        "Let's see how the classes in the dataset are balanced using the np.bincount function from NumPy. "
      ]
    },
    {
      "cell_type": "code",
      "metadata": {
        "id": "F9buKO1N2hUq",
        "outputId": "562bc1e7-9eea-42a6-bc60-0515c7f5a134",
        "colab": {
          "base_uri": "https://localhost:8080/"
        }
      },
      "source": [
        "neg, pos = np.bincount(raw_df['Class'])\n",
        "total = neg + pos\n",
        "print('Examples:\\n  Total: {}\\n  Negative: {} ({:.2f}% of total)\\n  Positive: {} ({:.2f}% of total)\\n'.format(\n",
        "    total, neg, 100 * neg / total, pos, 100 * pos / total))"
      ],
      "execution_count": null,
      "outputs": [
        {
          "output_type": "stream",
          "text": [
            "Examples:\n",
            "  Total: 284807\n",
            "  Negative: 284315 (99.83% of total)\n",
            "  Positive: 492 (0.17% of total)\n",
            "\n"
          ],
          "name": "stdout"
        }
      ]
    },
    {
      "cell_type": "markdown",
      "metadata": {
        "id": "tE1UyTUn6OGL"
      },
      "source": [
        "This dataset is heavily imbalanced: only 0.17% of the transactions are frauds. \n",
        "\n",
        "#Data Cleaning\n",
        "\n",
        "We need to clean the data. First, we are going to check if the dataset contains any null values."
      ]
    },
    {
      "cell_type": "code",
      "metadata": {
        "id": "OxDSdhAeJDBc",
        "outputId": "a1bfeeb0-ca5b-4275-cd63-a40a20cd4925",
        "colab": {
          "base_uri": "https://localhost:8080/"
        }
      },
      "source": [
        "raw_df.isnull().sum() "
      ],
      "execution_count": null,
      "outputs": [
        {
          "output_type": "execute_result",
          "data": {
            "text/plain": [
              "Time      0\n",
              "V1        0\n",
              "V2        0\n",
              "V3        0\n",
              "V4        0\n",
              "V5        0\n",
              "V6        0\n",
              "V7        0\n",
              "V8        0\n",
              "V9        0\n",
              "V10       0\n",
              "V11       0\n",
              "V12       0\n",
              "V13       0\n",
              "V14       0\n",
              "V15       0\n",
              "V16       0\n",
              "V17       0\n",
              "V18       0\n",
              "V19       0\n",
              "V20       0\n",
              "V21       0\n",
              "V22       0\n",
              "V23       0\n",
              "V24       0\n",
              "V25       0\n",
              "V26       0\n",
              "V27       0\n",
              "V28       0\n",
              "Amount    0\n",
              "Class     0\n",
              "dtype: int64"
            ]
          },
          "metadata": {
            "tags": []
          },
          "execution_count": 398
        }
      ]
    },
    {
      "cell_type": "markdown",
      "metadata": {
        "id": "3b_U6KpbJG27"
      },
      "source": [
        ""
      ]
    },
    {
      "cell_type": "code",
      "metadata": {
        "id": "8DEcu9fSJYxY",
        "outputId": "13362615-88cb-4514-ed2b-9b96c44c408c",
        "colab": {
          "base_uri": "https://localhost:8080/",
          "height": 284
        }
      },
      "source": [
        "raw_df[['Time', 'V1', 'V2', 'V3', 'V4', 'V5', 'V26', 'V27', 'V28', 'Amount', 'Class']].describe()"
      ],
      "execution_count": null,
      "outputs": [
        {
          "output_type": "execute_result",
          "data": {
            "text/html": [
              "<div>\n",
              "<style scoped>\n",
              "    .dataframe tbody tr th:only-of-type {\n",
              "        vertical-align: middle;\n",
              "    }\n",
              "\n",
              "    .dataframe tbody tr th {\n",
              "        vertical-align: top;\n",
              "    }\n",
              "\n",
              "    .dataframe thead th {\n",
              "        text-align: right;\n",
              "    }\n",
              "</style>\n",
              "<table border=\"1\" class=\"dataframe\">\n",
              "  <thead>\n",
              "    <tr style=\"text-align: right;\">\n",
              "      <th></th>\n",
              "      <th>Time</th>\n",
              "      <th>V1</th>\n",
              "      <th>V2</th>\n",
              "      <th>V3</th>\n",
              "      <th>V4</th>\n",
              "      <th>V5</th>\n",
              "      <th>V26</th>\n",
              "      <th>V27</th>\n",
              "      <th>V28</th>\n",
              "      <th>Amount</th>\n",
              "      <th>Class</th>\n",
              "    </tr>\n",
              "  </thead>\n",
              "  <tbody>\n",
              "    <tr>\n",
              "      <th>count</th>\n",
              "      <td>284807.000000</td>\n",
              "      <td>2.848070e+05</td>\n",
              "      <td>2.848070e+05</td>\n",
              "      <td>2.848070e+05</td>\n",
              "      <td>2.848070e+05</td>\n",
              "      <td>2.848070e+05</td>\n",
              "      <td>2.848070e+05</td>\n",
              "      <td>2.848070e+05</td>\n",
              "      <td>2.848070e+05</td>\n",
              "      <td>284807.000000</td>\n",
              "      <td>284807.000000</td>\n",
              "    </tr>\n",
              "    <tr>\n",
              "      <th>mean</th>\n",
              "      <td>94813.859575</td>\n",
              "      <td>3.919560e-15</td>\n",
              "      <td>5.688174e-16</td>\n",
              "      <td>-8.769071e-15</td>\n",
              "      <td>2.782312e-15</td>\n",
              "      <td>-1.552563e-15</td>\n",
              "      <td>1.699104e-15</td>\n",
              "      <td>-3.660161e-16</td>\n",
              "      <td>-1.206049e-16</td>\n",
              "      <td>88.349619</td>\n",
              "      <td>0.001727</td>\n",
              "    </tr>\n",
              "    <tr>\n",
              "      <th>std</th>\n",
              "      <td>47488.145955</td>\n",
              "      <td>1.958696e+00</td>\n",
              "      <td>1.651309e+00</td>\n",
              "      <td>1.516255e+00</td>\n",
              "      <td>1.415869e+00</td>\n",
              "      <td>1.380247e+00</td>\n",
              "      <td>4.822270e-01</td>\n",
              "      <td>4.036325e-01</td>\n",
              "      <td>3.300833e-01</td>\n",
              "      <td>250.120109</td>\n",
              "      <td>0.041527</td>\n",
              "    </tr>\n",
              "    <tr>\n",
              "      <th>min</th>\n",
              "      <td>0.000000</td>\n",
              "      <td>-5.640751e+01</td>\n",
              "      <td>-7.271573e+01</td>\n",
              "      <td>-4.832559e+01</td>\n",
              "      <td>-5.683171e+00</td>\n",
              "      <td>-1.137433e+02</td>\n",
              "      <td>-2.604551e+00</td>\n",
              "      <td>-2.256568e+01</td>\n",
              "      <td>-1.543008e+01</td>\n",
              "      <td>0.000000</td>\n",
              "      <td>0.000000</td>\n",
              "    </tr>\n",
              "    <tr>\n",
              "      <th>25%</th>\n",
              "      <td>54201.500000</td>\n",
              "      <td>-9.203734e-01</td>\n",
              "      <td>-5.985499e-01</td>\n",
              "      <td>-8.903648e-01</td>\n",
              "      <td>-8.486401e-01</td>\n",
              "      <td>-6.915971e-01</td>\n",
              "      <td>-3.269839e-01</td>\n",
              "      <td>-7.083953e-02</td>\n",
              "      <td>-5.295979e-02</td>\n",
              "      <td>5.600000</td>\n",
              "      <td>0.000000</td>\n",
              "    </tr>\n",
              "    <tr>\n",
              "      <th>50%</th>\n",
              "      <td>84692.000000</td>\n",
              "      <td>1.810880e-02</td>\n",
              "      <td>6.548556e-02</td>\n",
              "      <td>1.798463e-01</td>\n",
              "      <td>-1.984653e-02</td>\n",
              "      <td>-5.433583e-02</td>\n",
              "      <td>-5.213911e-02</td>\n",
              "      <td>1.342146e-03</td>\n",
              "      <td>1.124383e-02</td>\n",
              "      <td>22.000000</td>\n",
              "      <td>0.000000</td>\n",
              "    </tr>\n",
              "    <tr>\n",
              "      <th>75%</th>\n",
              "      <td>139320.500000</td>\n",
              "      <td>1.315642e+00</td>\n",
              "      <td>8.037239e-01</td>\n",
              "      <td>1.027196e+00</td>\n",
              "      <td>7.433413e-01</td>\n",
              "      <td>6.119264e-01</td>\n",
              "      <td>2.409522e-01</td>\n",
              "      <td>9.104512e-02</td>\n",
              "      <td>7.827995e-02</td>\n",
              "      <td>77.165000</td>\n",
              "      <td>0.000000</td>\n",
              "    </tr>\n",
              "    <tr>\n",
              "      <th>max</th>\n",
              "      <td>172792.000000</td>\n",
              "      <td>2.454930e+00</td>\n",
              "      <td>2.205773e+01</td>\n",
              "      <td>9.382558e+00</td>\n",
              "      <td>1.687534e+01</td>\n",
              "      <td>3.480167e+01</td>\n",
              "      <td>3.517346e+00</td>\n",
              "      <td>3.161220e+01</td>\n",
              "      <td>3.384781e+01</td>\n",
              "      <td>25691.160000</td>\n",
              "      <td>1.000000</td>\n",
              "    </tr>\n",
              "  </tbody>\n",
              "</table>\n",
              "</div>"
            ],
            "text/plain": [
              "                Time            V1  ...         Amount          Class\n",
              "count  284807.000000  2.848070e+05  ...  284807.000000  284807.000000\n",
              "mean    94813.859575  3.919560e-15  ...      88.349619       0.001727\n",
              "std     47488.145955  1.958696e+00  ...     250.120109       0.041527\n",
              "min         0.000000 -5.640751e+01  ...       0.000000       0.000000\n",
              "25%     54201.500000 -9.203734e-01  ...       5.600000       0.000000\n",
              "50%     84692.000000  1.810880e-02  ...      22.000000       0.000000\n",
              "75%    139320.500000  1.315642e+00  ...      77.165000       0.000000\n",
              "max    172792.000000  2.454930e+00  ...   25691.160000       1.000000\n",
              "\n",
              "[8 rows x 11 columns]"
            ]
          },
          "metadata": {
            "tags": []
          },
          "execution_count": 399
        }
      ]
    },
    {
      "cell_type": "markdown",
      "metadata": {
        "id": "lbxRmU0LJcQN"
      },
      "source": [
        "Taking a look at some of these features, we notice that the 'Amount' and 'Time' features present high numerical values, which complicates the training and needs a rescaling. We are going to work with the log of the 'Amount' column to reduce its range, and drop the 'Time' feature (for now)."
      ]
    },
    {
      "cell_type": "code",
      "metadata": {
        "id": "Y4WDwx1n6Kaq",
        "outputId": "bbc361de-e575-4c82-edad-2611493e5228",
        "colab": {
          "base_uri": "https://localhost:8080/",
          "height": 284
        }
      },
      "source": [
        "cleaned_df = raw_df.copy()\n",
        "\n",
        "# Dropping the 'Time' column\n",
        "cleaned_df.pop('Time')\n",
        "\n",
        "# Converting the 'Amount' column to log-space.\n",
        "eps=0.001 # 0 => 0.1¢\n",
        "cleaned_df['Log Amount'] = np.log(cleaned_df.pop('Amount')+eps)\n",
        "\n",
        "cleaned_df[['Log Amount']].describe()"
      ],
      "execution_count": null,
      "outputs": [
        {
          "output_type": "execute_result",
          "data": {
            "text/html": [
              "<div>\n",
              "<style scoped>\n",
              "    .dataframe tbody tr th:only-of-type {\n",
              "        vertical-align: middle;\n",
              "    }\n",
              "\n",
              "    .dataframe tbody tr th {\n",
              "        vertical-align: top;\n",
              "    }\n",
              "\n",
              "    .dataframe thead th {\n",
              "        text-align: right;\n",
              "    }\n",
              "</style>\n",
              "<table border=\"1\" class=\"dataframe\">\n",
              "  <thead>\n",
              "    <tr style=\"text-align: right;\">\n",
              "      <th></th>\n",
              "      <th>Log Amount</th>\n",
              "    </tr>\n",
              "  </thead>\n",
              "  <tbody>\n",
              "    <tr>\n",
              "      <th>count</th>\n",
              "      <td>284807.000000</td>\n",
              "    </tr>\n",
              "    <tr>\n",
              "      <th>mean</th>\n",
              "      <td>2.942089</td>\n",
              "    </tr>\n",
              "    <tr>\n",
              "      <th>std</th>\n",
              "      <td>2.023685</td>\n",
              "    </tr>\n",
              "    <tr>\n",
              "      <th>min</th>\n",
              "      <td>-6.907755</td>\n",
              "    </tr>\n",
              "    <tr>\n",
              "      <th>25%</th>\n",
              "      <td>1.722945</td>\n",
              "    </tr>\n",
              "    <tr>\n",
              "      <th>50%</th>\n",
              "      <td>3.091088</td>\n",
              "    </tr>\n",
              "    <tr>\n",
              "      <th>75%</th>\n",
              "      <td>4.345959</td>\n",
              "    </tr>\n",
              "    <tr>\n",
              "      <th>max</th>\n",
              "      <td>10.153902</td>\n",
              "    </tr>\n",
              "  </tbody>\n",
              "</table>\n",
              "</div>"
            ],
            "text/plain": [
              "          Log Amount\n",
              "count  284807.000000\n",
              "mean        2.942089\n",
              "std         2.023685\n",
              "min        -6.907755\n",
              "25%         1.722945\n",
              "50%         3.091088\n",
              "75%         4.345959\n",
              "max        10.153902"
            ]
          },
          "metadata": {
            "tags": []
          },
          "execution_count": 400
        }
      ]
    },
    {
      "cell_type": "markdown",
      "metadata": {
        "id": "aFRDD0gpKTqb"
      },
      "source": [
        "Now it has nicer values for the neural network. \n",
        "\n",
        "#Splitting and normalizing the data\n",
        "\n",
        "We need to split the data between a train, validation and test sets. \n",
        "\n",
        "* The train data is used to fit the model. \n",
        "\n",
        "* The validation data is not used to fit the model, instead we use it to track  how the loss, accuracy and other metrics evolve using data that the model has not seen yet. This set is important to hel us notice if the model is overfitting.\n",
        "\n",
        "* The test data is used at the end of the training to see how the model generalizes to new data."
      ]
    },
    {
      "cell_type": "code",
      "metadata": {
        "id": "fsES4xFAKK30"
      },
      "source": [
        "# Here we use a utility from sklearn to help us split and shuffle the dataset.\n",
        "train_df, test_df = train_test_split(cleaned_df, test_size=0.2)\n",
        "train_df, val_df = train_test_split(train_df, test_size=0.2)\n",
        "\n",
        "# Convert the DataFrame into np arrays of labels and features.\n",
        "train_labels = np.array(train_df.pop('Class'))\n",
        "bool_train_labels = train_labels != 0\n",
        "val_labels = np.array(val_df.pop('Class'))\n",
        "test_labels = np.array(test_df.pop('Class'))\n",
        "\n",
        "train_features = np.array(train_df)\n",
        "val_features = np.array(val_df)\n",
        "test_features = np.array(test_df)"
      ],
      "execution_count": null,
      "outputs": []
    },
    {
      "cell_type": "code",
      "metadata": {
        "id": "LU0_mcVYV_RF",
        "outputId": "ad63ca5e-b8bc-4c1e-8235-8032a1bf62b6",
        "colab": {
          "base_uri": "https://localhost:8080/"
        }
      },
      "source": [
        "neg_train, pos_train = np.bincount(train_labels)\n",
        "total_train = neg_train + pos_train\n",
        "\n",
        "neg_val, pos_val = np.bincount(val_labels)\n",
        "total_val = neg_val + pos_val\n",
        "\n",
        "neg_test, pos_test = np.bincount(test_labels)\n",
        "total_test = neg_test + pos_test\n",
        "\n",
        "print('Train:\\n  Total: {}\\n  Negative: {} ({:.2f}% of total)\\n  Positive: {} ({:.2f}% of total)\\n'.format(\n",
        "    total_train, neg_train, 100 * neg_train / total_train, pos_train, 100 * pos_train / total_train))\n",
        "\n",
        "print('Validation:\\n  Total: {}\\n  Negative: {} ({:.2f}% of total)\\n  Positive: {} ({:.2f}% of total)\\n'.format(\n",
        "    total_val, neg_val, 100 * neg_val / total_val, pos_val, 100 * pos_val / total_val))\n",
        "\n",
        "print('Test:\\n  Total: {}\\n  Negative: {} ({:.2f}% of total)\\n  Positive: {} ({:.2f}% of total)\\n'.format(\n",
        "    total_val, neg_test, 100 * neg_test / total_test, pos_test, 100 * pos_test / total_test))"
      ],
      "execution_count": null,
      "outputs": [
        {
          "output_type": "stream",
          "text": [
            "Train:\n",
            "  Total: 182276\n",
            "  Negative: 181950 (99.82% of total)\n",
            "  Positive: 326 (0.18% of total)\n",
            "\n",
            "Validation:\n",
            "  Total: 45569\n",
            "  Negative: 45490 (99.83% of total)\n",
            "  Positive: 79 (0.17% of total)\n",
            "\n",
            "Test:\n",
            "  Total: 45569\n",
            "  Negative: 56875 (99.85% of total)\n",
            "  Positive: 87 (0.15% of total)\n",
            "\n"
          ],
          "name": "stdout"
        }
      ]
    },
    {
      "cell_type": "markdown",
      "metadata": {
        "id": "mq8cEn-DVE6E"
      },
      "source": [
        "All 3 sets contains the same percentage of Negative and Positive.\n",
        "\n",
        "To help during training, we also need to normalize the data, setting its mean to zero and standard deviation to one. We use the sklearn StandardScaler to do this."
      ]
    },
    {
      "cell_type": "code",
      "metadata": {
        "id": "zdtnS_0SVQ32",
        "outputId": "d5d7bb38-be6d-48c9-9241-6674e9b2c7cb",
        "colab": {
          "base_uri": "https://localhost:8080/"
        }
      },
      "source": [
        "scaler = StandardScaler()\n",
        "train_features = scaler.fit_transform(train_features)\n",
        "\n",
        "val_features = scaler.transform(val_features)\n",
        "test_features = scaler.transform(test_features)\n",
        "\n",
        "#The np.clip helps setting all the features to be in the range [-5,5] (values \n",
        "#lower than -5 and higher than 5 are set to -5 and 5, respectively)\n",
        "\n",
        "train_features = np.clip(train_features, -5, 5)\n",
        "val_features = np.clip(val_features, -5, 5)\n",
        "test_features = np.clip(test_features, -5, 5)\n",
        "\n",
        "\n",
        "print('Training labels shape:', train_labels.shape)\n",
        "print('Validation labels shape:', val_labels.shape)\n",
        "print('Test labels shape:', test_labels.shape)\n",
        "\n",
        "print('Training features shape:', train_features.shape)\n",
        "print('Validation features shape:', val_features.shape)\n",
        "print('Test features shape:', test_features.shape)"
      ],
      "execution_count": null,
      "outputs": [
        {
          "output_type": "stream",
          "text": [
            "Training labels shape: (182276,)\n",
            "Validation labels shape: (45569,)\n",
            "Test labels shape: (56962,)\n",
            "Training features shape: (182276, 29)\n",
            "Validation features shape: (45569, 29)\n",
            "Test features shape: (56962, 29)\n"
          ],
          "name": "stdout"
        }
      ]
    },
    {
      "cell_type": "markdown",
      "metadata": {
        "id": "_oZVSrlkcddW"
      },
      "source": [
        "# Building the model\n",
        "\n",
        "In this notebook, we are going to test four approaches to this problem:\n",
        "\n",
        "1. A model that does not take into account the fact that the dataset is imbalanced.\n",
        "2. A model that applies weights to the fraud samples.\n",
        "3. A model trained with a dataset oversampled with the fraud samples in the dataset.\n",
        "4. A model trained with a dataset undersampled with the non-fraud samples in the dataset.\n",
        "\n",
        "We will compare the four cases, plotting the confusion matrices and ROC/AUC to see which one performs better.\n",
        "\n",
        "In each approach, we are going to use the same architecture, consisting of the input layer, one hidden layer with 16 neurons and ReLU activation function, and an output layer with 1 neuron and sigmoid activation function. \n",
        "\n",
        "Metrics we are going to use:"
      ]
    },
    {
      "cell_type": "code",
      "metadata": {
        "id": "LX7MhB7rbw6B"
      },
      "source": [
        "METRICS = [\n",
        "      keras.metrics.TruePositives(name='tp'),\n",
        "      keras.metrics.FalsePositives(name='fp'),\n",
        "      keras.metrics.TrueNegatives(name='tn'),\n",
        "      keras.metrics.FalseNegatives(name='fn'), \n",
        "      keras.metrics.BinaryAccuracy(name='accuracy'),\n",
        "      keras.metrics.Precision(name='precision'),\n",
        "      keras.metrics.Recall(name='recall'),\n",
        "      keras.metrics.AUC(name='auc'),\n",
        "]"
      ],
      "execution_count": null,
      "outputs": []
    },
    {
      "cell_type": "markdown",
      "metadata": {
        "id": "z87A4SW59wcS"
      },
      "source": [
        "\n",
        "It is good to create a function that creates a generic model to save lines of code.\n"
      ]
    },
    {
      "cell_type": "code",
      "metadata": {
        "id": "4bKnEDqI9xp0"
      },
      "source": [
        "\n",
        "def make_model(metrics = METRICS, output_bias=None):\n",
        "  if output_bias is not None:\n",
        "    output_bias = tf.keras.initializers.Constant(output_bias)\n",
        "  \n",
        "  model = keras.Sequential([\n",
        "      keras.layers.Dense(\n",
        "          16, activation='relu',\n",
        "          input_shape=(train_features.shape[-1],)),\n",
        "      keras.layers.Dropout(0.5),\n",
        "      keras.layers.Dense(1, activation='sigmoid',\n",
        "                         bias_initializer=output_bias),\n",
        "  ])\n",
        "  '''  \n",
        "  model = keras.Sequential(\n",
        "    [\n",
        "        keras.layers.Dense(\n",
        "            256, activation=\"relu\", input_shape=(train_features.shape[-1],)\n",
        "        ),\n",
        "        keras.layers.Dense(256, activation=\"relu\"),\n",
        "        keras.layers.Dropout(0.3),\n",
        "        keras.layers.Dense(256, activation=\"relu\"),\n",
        "        keras.layers.Dropout(0.3),\n",
        "        keras.layers.Dense(1, activation=\"sigmoid\"),\n",
        "    ]\n",
        "  )\n",
        "  '''\n",
        "\n",
        "  model.compile(\n",
        "      optimizer=keras.optimizers.Adam(lr=1e-3),\n",
        "      loss=keras.losses.BinaryCrossentropy(),\n",
        "      metrics=metrics)\n",
        "\n",
        "  return model"
      ],
      "execution_count": null,
      "outputs": []
    },
    {
      "cell_type": "markdown",
      "metadata": {
        "id": "Y85aJmuKoklL"
      },
      "source": [
        "## Baseline model\n",
        "\n",
        "We need a huge batch size in order to increase the chance that each batch has a number of fraud samples to learn from."
      ]
    },
    {
      "cell_type": "code",
      "metadata": {
        "id": "Nt9HELuOcbge",
        "outputId": "c46949c9-5b34-4ce6-8d1c-99c31dfb3988",
        "colab": {
          "base_uri": "https://localhost:8080/"
        }
      },
      "source": [
        "EPOCHS = 100\n",
        "BATCH_SIZE = 2048\n",
        "\n",
        "early_stopping = tf.keras.callbacks.EarlyStopping(\n",
        "    monitor='val_auc', \n",
        "    verbose=1,\n",
        "    patience=10,\n",
        "    mode='max',\n",
        "    restore_best_weights=True)\n",
        "\n",
        "model = make_model()\n",
        "\n",
        "model.summary()"
      ],
      "execution_count": null,
      "outputs": [
        {
          "output_type": "stream",
          "text": [
            "Model: \"sequential_58\"\n",
            "_________________________________________________________________\n",
            "Layer (type)                 Output Shape              Param #   \n",
            "=================================================================\n",
            "dense_116 (Dense)            (None, 16)                480       \n",
            "_________________________________________________________________\n",
            "dropout_58 (Dropout)         (None, 16)                0         \n",
            "_________________________________________________________________\n",
            "dense_117 (Dense)            (None, 1)                 17        \n",
            "=================================================================\n",
            "Total params: 497\n",
            "Trainable params: 497\n",
            "Non-trainable params: 0\n",
            "_________________________________________________________________\n"
          ],
          "name": "stdout"
        }
      ]
    },
    {
      "cell_type": "markdown",
      "metadata": {
        "id": "Jajw9lasinaK"
      },
      "source": [
        "#Bias initialization\n",
        "\n",
        "Now let's see what this model predicts, with its inicial guesses, for the first 10 samples of the train dataset:"
      ]
    },
    {
      "cell_type": "code",
      "metadata": {
        "id": "hCgsYOGpjGjt",
        "outputId": "945e6fe6-fbb9-4fe2-e268-2a916e710bc0",
        "colab": {
          "base_uri": "https://localhost:8080/"
        }
      },
      "source": [
        "train_labels[:10]"
      ],
      "execution_count": null,
      "outputs": [
        {
          "output_type": "execute_result",
          "data": {
            "text/plain": [
              "array([0, 0, 0, 0, 0, 0, 0, 0, 0, 0])"
            ]
          },
          "metadata": {
            "tags": []
          },
          "execution_count": 407
        }
      ]
    },
    {
      "cell_type": "markdown",
      "metadata": {
        "id": "_mOT7waR2_Hx"
      },
      "source": [
        "As they are all non-fraud, a good initial guess should be low probabilities of being fraud on the output layer."
      ]
    },
    {
      "cell_type": "code",
      "metadata": {
        "id": "p7lNZUegyScs",
        "outputId": "ba84ac02-4c5e-4987-9246-28302aef7793",
        "colab": {
          "base_uri": "https://localhost:8080/"
        }
      },
      "source": [
        "model.predict(train_features[:10])"
      ],
      "execution_count": null,
      "outputs": [
        {
          "output_type": "stream",
          "text": [
            "WARNING:tensorflow:6 out of the last 7517 calls to <function Model.make_predict_function.<locals>.predict_function at 0x7f06c3d1aae8> triggered tf.function retracing. Tracing is expensive and the excessive number of tracings could be due to (1) creating @tf.function repeatedly in a loop, (2) passing tensors with different shapes, (3) passing Python objects instead of tensors. For (1), please define your @tf.function outside of the loop. For (2), @tf.function has experimental_relax_shapes=True option that relaxes argument shapes that can avoid unnecessary retracing. For (3), please refer to https://www.tensorflow.org/tutorials/customization/performance#python_or_tensor_args and https://www.tensorflow.org/api_docs/python/tf/function for  more details.\n"
          ],
          "name": "stdout"
        },
        {
          "output_type": "execute_result",
          "data": {
            "text/plain": [
              "array([[0.04511774],\n",
              "       [0.13167158],\n",
              "       [0.2774328 ],\n",
              "       [0.278827  ],\n",
              "       [0.28881866],\n",
              "       [0.75620294],\n",
              "       [0.22757882],\n",
              "       [0.6008095 ],\n",
              "       [0.19614932],\n",
              "       [0.58850306]], dtype=float32)"
            ]
          },
          "metadata": {
            "tags": []
          },
          "execution_count": 408
        }
      ]
    },
    {
      "cell_type": "code",
      "metadata": {
        "id": "eEB8LjKVL6Hw",
        "outputId": "684a6fa1-151c-408d-9294-348a3ed9dfed",
        "colab": {
          "base_uri": "https://localhost:8080/"
        }
      },
      "source": [
        "(model.predict(train_features[:10]) > 0.5).astype(\"int32\")"
      ],
      "execution_count": null,
      "outputs": [
        {
          "output_type": "execute_result",
          "data": {
            "text/plain": [
              "array([[0],\n",
              "       [0],\n",
              "       [0],\n",
              "       [0],\n",
              "       [0],\n",
              "       [1],\n",
              "       [0],\n",
              "       [1],\n",
              "       [0],\n",
              "       [1]], dtype=int32)"
            ]
          },
          "metadata": {
            "tags": []
          },
          "execution_count": 409
        }
      ]
    },
    {
      "cell_type": "markdown",
      "metadata": {
        "id": "QoKffAXHoZLl"
      },
      "source": [
        "These are not good initial guesses: these probabilities should be around \n",
        "\n",
        "$\\dfrac{pos}{pos + neg}$ = 0.0018.\n",
        "\n",
        "Let's look at the loss:"
      ]
    },
    {
      "cell_type": "code",
      "metadata": {
        "id": "mWTYQzRVycrk",
        "outputId": "7890d85d-d891-4f14-9f05-98eb49c35c67",
        "colab": {
          "base_uri": "https://localhost:8080/"
        }
      },
      "source": [
        "results = model.evaluate(train_features, train_labels, batch_size=BATCH_SIZE, verbose=0)\n",
        "print(\"Loss: {:0.4f}\".format(results[0]))"
      ],
      "execution_count": null,
      "outputs": [
        {
          "output_type": "stream",
          "text": [
            "Loss: 0.3059\n"
          ],
          "name": "stdout"
        }
      ]
    },
    {
      "cell_type": "markdown",
      "metadata": {
        "id": "jtaVDZLrrLsA"
      },
      "source": [
        "This loss is too high. Its value for a binary cross entropy loss and the default bias initialization should be around $log(2)$: "
      ]
    },
    {
      "cell_type": "code",
      "metadata": {
        "id": "1nJu8fPpraYv",
        "outputId": "3e14ab79-cc62-446c-ebf9-967d8b0053d2",
        "colab": {
          "base_uri": "https://localhost:8080/"
        }
      },
      "source": [
        "print(\"Loss: {:0.4f}\".format(np.log(2)))"
      ],
      "execution_count": null,
      "outputs": [
        {
          "output_type": "stream",
          "text": [
            "Loss: 0.6931\n"
          ],
          "name": "stdout"
        }
      ]
    },
    {
      "cell_type": "markdown",
      "metadata": {
        "id": "58iG9RP5qBLc"
      },
      "source": [
        "As we know that the dataset is imbalanced, it is a good idea to introduce a bias in the output layer to take that into account. This will help the model to converge faster. This bias ($b_0$) can be derived from the initial guess $p_0$ the network should make: \n",
        "\n",
        "$p_0 = \\dfrac{1}{1 + e^{-b_0}}$,\n",
        "\n",
        "which given the imbalanced, should be around:\n",
        "\n",
        "$p_0 = \\dfrac{pos}{pos + neg}$.\n",
        "\n",
        "Combinining both equations, we have\n",
        "\n",
        "$b_0 = ln (\\dfrac{pos}{neg})$"
      ]
    },
    {
      "cell_type": "code",
      "metadata": {
        "id": "Pe7hO69T0unk",
        "outputId": "0bc9825a-1b11-415a-ccba-ae6f518bb807",
        "colab": {
          "base_uri": "https://localhost:8080/"
        }
      },
      "source": [
        "initial_bias = np.log([pos/neg])\n",
        "initial_bias"
      ],
      "execution_count": null,
      "outputs": [
        {
          "output_type": "execute_result",
          "data": {
            "text/plain": [
              "array([-6.35935934])"
            ]
          },
          "metadata": {
            "tags": []
          },
          "execution_count": 412
        }
      ]
    },
    {
      "cell_type": "markdown",
      "metadata": {
        "id": "B3cl8Gb8uneQ"
      },
      "source": [
        "Introducing this bias on the model, we have:"
      ]
    },
    {
      "cell_type": "code",
      "metadata": {
        "id": "bSInwQHSQzeC",
        "outputId": "18e2b83c-4dc5-4082-b3bf-01e09141c991",
        "colab": {
          "base_uri": "https://localhost:8080/"
        }
      },
      "source": [
        "model = make_model(output_bias = initial_bias)\n",
        "model.predict(train_features[:10])"
      ],
      "execution_count": null,
      "outputs": [
        {
          "output_type": "stream",
          "text": [
            "WARNING:tensorflow:6 out of the last 12 calls to <function Model.make_predict_function.<locals>.predict_function at 0x7f06b1ca2f28> triggered tf.function retracing. Tracing is expensive and the excessive number of tracings could be due to (1) creating @tf.function repeatedly in a loop, (2) passing tensors with different shapes, (3) passing Python objects instead of tensors. For (1), please define your @tf.function outside of the loop. For (2), @tf.function has experimental_relax_shapes=True option that relaxes argument shapes that can avoid unnecessary retracing. For (3), please refer to https://www.tensorflow.org/tutorials/customization/performance#python_or_tensor_args and https://www.tensorflow.org/api_docs/python/tf/function for  more details.\n"
          ],
          "name": "stdout"
        },
        {
          "output_type": "execute_result",
          "data": {
            "text/plain": [
              "array([[0.00237402],\n",
              "       [0.00982073],\n",
              "       [0.01172233],\n",
              "       [0.00166857],\n",
              "       [0.00289902],\n",
              "       [0.00417647],\n",
              "       [0.00453392],\n",
              "       [0.00530103],\n",
              "       [0.00386566],\n",
              "       [0.03965217]], dtype=float32)"
            ]
          },
          "metadata": {
            "tags": []
          },
          "execution_count": 413
        }
      ]
    },
    {
      "cell_type": "code",
      "metadata": {
        "id": "dzLerDOZQ1b5",
        "outputId": "3d343d19-1109-4b22-de56-f939a58b4673",
        "colab": {
          "base_uri": "https://localhost:8080/"
        }
      },
      "source": [
        "(model.predict(train_features[:10]) > 0.5).astype(\"int32\")"
      ],
      "execution_count": null,
      "outputs": [
        {
          "output_type": "execute_result",
          "data": {
            "text/plain": [
              "array([[0],\n",
              "       [0],\n",
              "       [0],\n",
              "       [0],\n",
              "       [0],\n",
              "       [0],\n",
              "       [0],\n",
              "       [0],\n",
              "       [0],\n",
              "       [0]], dtype=int32)"
            ]
          },
          "metadata": {
            "tags": []
          },
          "execution_count": 414
        }
      ]
    },
    {
      "cell_type": "code",
      "metadata": {
        "id": "HjWQ8FafusBV",
        "outputId": "ce5d0dbb-7ab3-4101-f9ec-3fa0d7ac079c",
        "colab": {
          "base_uri": "https://localhost:8080/"
        }
      },
      "source": [
        "results = model.evaluate(train_features, train_labels, batch_size=BATCH_SIZE, verbose=0)\n",
        "print(\"Loss: {:0.4f}\".format(results[0]))"
      ],
      "execution_count": null,
      "outputs": [
        {
          "output_type": "stream",
          "text": [
            "Loss: 0.0155\n"
          ],
          "name": "stdout"
        }
      ]
    },
    {
      "cell_type": "markdown",
      "metadata": {
        "id": "MHbXcA9Pu2Pw"
      },
      "source": [
        "Now these are very lower predictions, and therefore a lower loss. This way, the network will converge faster as it will not spend the first epoches figuring out that the dataset is imbalanced.\n",
        "\n",
        "Even though we said that the first model would not take into account the fact that the dataset is imbalanced, this bias initializer will be applied to all the four approaches.\n",
        "\n",
        "Now, let's compare the two models, with and without the bias initializer, to see which one is better. "
      ]
    },
    {
      "cell_type": "code",
      "metadata": {
        "id": "7_wZi1TSi0Ea"
      },
      "source": [
        "model1 = make_model()\n",
        "zero_bias_history = model1.fit(\n",
        "    train_features,\n",
        "    train_labels,\n",
        "    batch_size=BATCH_SIZE,\n",
        "    epochs=20,\n",
        "    validation_data=(val_features, val_labels), \n",
        "    verbose=0)"
      ],
      "execution_count": null,
      "outputs": []
    },
    {
      "cell_type": "code",
      "metadata": {
        "id": "3twiPxwIzv5Y"
      },
      "source": [
        "model2 = make_model(output_bias = initial_bias)\n",
        "careful_bias_history = model2.fit(\n",
        "    train_features,\n",
        "    train_labels,\n",
        "    batch_size=BATCH_SIZE,\n",
        "    epochs=20,\n",
        "    validation_data=(val_features, val_labels), \n",
        "    verbose=0)"
      ],
      "execution_count": null,
      "outputs": []
    },
    {
      "cell_type": "markdown",
      "metadata": {
        "id": "8YM9-Fw80F4p"
      },
      "source": [
        "Function to plot the losses:"
      ]
    },
    {
      "cell_type": "code",
      "metadata": {
        "id": "UnLy7_bI0FU-"
      },
      "source": [
        "mpl.rcParams['figure.figsize'] = (12, 10)\n",
        "colors = plt.rcParams['axes.prop_cycle'].by_key()['color']\n",
        "\n",
        "def plot_loss(history, label, n):\n",
        "  # Use a log scale to show the wide range of values.\n",
        "  plt.plot(history.epoch,  history.history['loss'],\n",
        "               color=colors[n], label='Train '+label)\n",
        "  plt.plot(history.epoch,  history.history['val_loss'],\n",
        "          color=colors[n], label='Val '+label,\n",
        "          linestyle=\"--\")\n",
        "  plt.xlabel('Epoch')\n",
        "  plt.ylabel('Loss')\n",
        "\n",
        "  plt.legend()"
      ],
      "execution_count": null,
      "outputs": []
    },
    {
      "cell_type": "code",
      "metadata": {
        "id": "iPOtl3IV0QxH",
        "outputId": "16512f14-b9be-484d-b4b7-ee89c984dab0",
        "colab": {
          "base_uri": "https://localhost:8080/",
          "height": 606
        }
      },
      "source": [
        "plot_loss(zero_bias_history, \"Zero Bias\", 0)\n",
        "plot_loss(careful_bias_history, \"Careful Bias\", 1)"
      ],
      "execution_count": null,
      "outputs": [
        {
          "output_type": "display_data",
          "data": {
            "image/png": "[encoded data removed]",
            "text/plain": [
              "<Figure size 864x720 with 1 Axes>"
            ]
          },
          "metadata": {
            "tags": [],
            "needs_background": "light"
          }
        }
      ]
    },
    {
      "cell_type": "markdown",
      "metadata": {
        "id": "wjgtiIU31Lcl"
      },
      "source": [
        "Clearly the model with a careful initialization converges faster.\n",
        "\n",
        "### Training the model\n",
        "\n",
        "Given that, let's train the model:"
      ]
    },
    {
      "cell_type": "code",
      "metadata": {
        "id": "k_hh3sRJ37qY",
        "outputId": "9b92714c-2f7f-41a8-ea9e-7613e9fc9f78",
        "colab": {
          "base_uri": "https://localhost:8080/"
        }
      },
      "source": [
        "model = make_model(output_bias = initial_bias)\n",
        "baseline_history = model.fit(\n",
        "    train_features,\n",
        "    train_labels,\n",
        "    batch_size=BATCH_SIZE,\n",
        "    epochs=EPOCHS,\n",
        "    callbacks = [early_stopping],\n",
        "    validation_data=(val_features, val_labels))"
      ],
      "execution_count": null,
      "outputs": [
        {
          "output_type": "stream",
          "text": [
            "Epoch 1/100\n",
            "90/90 [==============================] - 2s 18ms/step - loss: 0.0156 - tp: 100.0000 - fp: 241.0000 - tn: 227199.0000 - fn: 305.0000 - accuracy: 0.9976 - precision: 0.2933 - recall: 0.2469 - auc: 0.7819 - val_loss: 0.0075 - val_tp: 22.0000 - val_fp: 6.0000 - val_tn: 45484.0000 - val_fn: 57.0000 - val_accuracy: 0.9986 - val_precision: 0.7857 - val_recall: 0.2785 - val_auc: 0.8798\n",
            "Epoch 2/100\n",
            "90/90 [==============================] - 1s 9ms/step - loss: 0.0080 - tp: 129.0000 - fp: 33.0000 - tn: 181917.0000 - fn: 197.0000 - accuracy: 0.9987 - precision: 0.7963 - recall: 0.3957 - auc: 0.8957 - val_loss: 0.0060 - val_tp: 39.0000 - val_fp: 7.0000 - val_tn: 45483.0000 - val_fn: 40.0000 - val_accuracy: 0.9990 - val_precision: 0.8478 - val_recall: 0.4937 - val_auc: 0.8907\n",
            "Epoch 3/100\n",
            "90/90 [==============================] - 1s 10ms/step - loss: 0.0064 - tp: 146.0000 - fp: 23.0000 - tn: 181927.0000 - fn: 180.0000 - accuracy: 0.9989 - precision: 0.8639 - recall: 0.4479 - auc: 0.9152 - val_loss: 0.0055 - val_tp: 43.0000 - val_fp: 9.0000 - val_tn: 45481.0000 - val_fn: 36.0000 - val_accuracy: 0.9990 - val_precision: 0.8269 - val_recall: 0.5443 - val_auc: 0.8916\n",
            "Epoch 4/100\n",
            "90/90 [==============================] - 1s 10ms/step - loss: 0.0060 - tp: 174.0000 - fp: 28.0000 - tn: 181922.0000 - fn: 152.0000 - accuracy: 0.9990 - precision: 0.8614 - recall: 0.5337 - auc: 0.9277 - val_loss: 0.0052 - val_tp: 47.0000 - val_fp: 12.0000 - val_tn: 45478.0000 - val_fn: 32.0000 - val_accuracy: 0.9990 - val_precision: 0.7966 - val_recall: 0.5949 - val_auc: 0.8920\n",
            "Epoch 5/100\n",
            "90/90 [==============================] - 1s 9ms/step - loss: 0.0057 - tp: 184.0000 - fp: 29.0000 - tn: 181921.0000 - fn: 142.0000 - accuracy: 0.9991 - precision: 0.8638 - recall: 0.5644 - auc: 0.9187 - val_loss: 0.0051 - val_tp: 51.0000 - val_fp: 14.0000 - val_tn: 45476.0000 - val_fn: 28.0000 - val_accuracy: 0.9991 - val_precision: 0.7846 - val_recall: 0.6456 - val_auc: 0.8921\n",
            "Epoch 6/100\n",
            "90/90 [==============================] - 1s 9ms/step - loss: 0.0052 - tp: 191.0000 - fp: 26.0000 - tn: 181924.0000 - fn: 135.0000 - accuracy: 0.9991 - precision: 0.8802 - recall: 0.5859 - auc: 0.9255 - val_loss: 0.0049 - val_tp: 51.0000 - val_fp: 13.0000 - val_tn: 45477.0000 - val_fn: 28.0000 - val_accuracy: 0.9991 - val_precision: 0.7969 - val_recall: 0.6456 - val_auc: 0.8921\n",
            "Epoch 7/100\n",
            "90/90 [==============================] - 1s 10ms/step - loss: 0.0049 - tp: 196.0000 - fp: 24.0000 - tn: 181926.0000 - fn: 130.0000 - accuracy: 0.9992 - precision: 0.8909 - recall: 0.6012 - auc: 0.9259 - val_loss: 0.0048 - val_tp: 52.0000 - val_fp: 14.0000 - val_tn: 45476.0000 - val_fn: 27.0000 - val_accuracy: 0.9991 - val_precision: 0.7879 - val_recall: 0.6582 - val_auc: 0.8983\n",
            "Epoch 8/100\n",
            "90/90 [==============================] - 1s 10ms/step - loss: 0.0047 - tp: 193.0000 - fp: 28.0000 - tn: 181922.0000 - fn: 133.0000 - accuracy: 0.9991 - precision: 0.8733 - recall: 0.5920 - auc: 0.9311 - val_loss: 0.0045 - val_tp: 52.0000 - val_fp: 14.0000 - val_tn: 45476.0000 - val_fn: 27.0000 - val_accuracy: 0.9991 - val_precision: 0.7879 - val_recall: 0.6582 - val_auc: 0.8983\n",
            "Epoch 9/100\n",
            "90/90 [==============================] - 1s 9ms/step - loss: 0.0044 - tp: 201.0000 - fp: 27.0000 - tn: 181923.0000 - fn: 125.0000 - accuracy: 0.9992 - precision: 0.8816 - recall: 0.6166 - auc: 0.9403 - val_loss: 0.0045 - val_tp: 53.0000 - val_fp: 14.0000 - val_tn: 45476.0000 - val_fn: 26.0000 - val_accuracy: 0.9991 - val_precision: 0.7910 - val_recall: 0.6709 - val_auc: 0.8983\n",
            "Epoch 10/100\n",
            "90/90 [==============================] - 1s 9ms/step - loss: 0.0045 - tp: 202.0000 - fp: 29.0000 - tn: 181921.0000 - fn: 124.0000 - accuracy: 0.9992 - precision: 0.8745 - recall: 0.6196 - auc: 0.9268 - val_loss: 0.0044 - val_tp: 55.0000 - val_fp: 14.0000 - val_tn: 45476.0000 - val_fn: 24.0000 - val_accuracy: 0.9992 - val_precision: 0.7971 - val_recall: 0.6962 - val_auc: 0.8983\n",
            "Epoch 11/100\n",
            "90/90 [==============================] - 1s 10ms/step - loss: 0.0043 - tp: 206.0000 - fp: 28.0000 - tn: 181922.0000 - fn: 120.0000 - accuracy: 0.9992 - precision: 0.8803 - recall: 0.6319 - auc: 0.9345 - val_loss: 0.0043 - val_tp: 55.0000 - val_fp: 13.0000 - val_tn: 45477.0000 - val_fn: 24.0000 - val_accuracy: 0.9992 - val_precision: 0.8088 - val_recall: 0.6962 - val_auc: 0.8983\n",
            "Epoch 12/100\n",
            "90/90 [==============================] - 1s 10ms/step - loss: 0.0043 - tp: 204.0000 - fp: 33.0000 - tn: 181917.0000 - fn: 122.0000 - accuracy: 0.9991 - precision: 0.8608 - recall: 0.6258 - auc: 0.9392 - val_loss: 0.0041 - val_tp: 53.0000 - val_fp: 11.0000 - val_tn: 45479.0000 - val_fn: 26.0000 - val_accuracy: 0.9992 - val_precision: 0.8281 - val_recall: 0.6709 - val_auc: 0.8983\n",
            "Epoch 13/100\n",
            "90/90 [==============================] - 1s 10ms/step - loss: 0.0041 - tp: 206.0000 - fp: 30.0000 - tn: 181920.0000 - fn: 120.0000 - accuracy: 0.9992 - precision: 0.8729 - recall: 0.6319 - auc: 0.9315 - val_loss: 0.0042 - val_tp: 55.0000 - val_fp: 13.0000 - val_tn: 45477.0000 - val_fn: 24.0000 - val_accuracy: 0.9992 - val_precision: 0.8088 - val_recall: 0.6962 - val_auc: 0.9109\n",
            "Epoch 14/100\n",
            "90/90 [==============================] - 1s 10ms/step - loss: 0.0042 - tp: 204.0000 - fp: 27.0000 - tn: 181923.0000 - fn: 122.0000 - accuracy: 0.9992 - precision: 0.8831 - recall: 0.6258 - auc: 0.9285 - val_loss: 0.0041 - val_tp: 55.0000 - val_fp: 13.0000 - val_tn: 45477.0000 - val_fn: 24.0000 - val_accuracy: 0.9992 - val_precision: 0.8088 - val_recall: 0.6962 - val_auc: 0.9108\n",
            "Epoch 15/100\n",
            "90/90 [==============================] - 1s 9ms/step - loss: 0.0039 - tp: 218.0000 - fp: 29.0000 - tn: 181921.0000 - fn: 108.0000 - accuracy: 0.9992 - precision: 0.8826 - recall: 0.6687 - auc: 0.9423 - val_loss: 0.0041 - val_tp: 56.0000 - val_fp: 13.0000 - val_tn: 45477.0000 - val_fn: 23.0000 - val_accuracy: 0.9992 - val_precision: 0.8116 - val_recall: 0.7089 - val_auc: 0.9109\n",
            "Epoch 16/100\n",
            "90/90 [==============================] - 1s 10ms/step - loss: 0.0040 - tp: 194.0000 - fp: 26.0000 - tn: 181924.0000 - fn: 132.0000 - accuracy: 0.9991 - precision: 0.8818 - recall: 0.5951 - auc: 0.9393 - val_loss: 0.0042 - val_tp: 57.0000 - val_fp: 14.0000 - val_tn: 45476.0000 - val_fn: 22.0000 - val_accuracy: 0.9992 - val_precision: 0.8028 - val_recall: 0.7215 - val_auc: 0.9108\n",
            "Epoch 17/100\n",
            "90/90 [==============================] - 1s 10ms/step - loss: 0.0039 - tp: 218.0000 - fp: 30.0000 - tn: 181920.0000 - fn: 108.0000 - accuracy: 0.9992 - precision: 0.8790 - recall: 0.6687 - auc: 0.9407 - val_loss: 0.0041 - val_tp: 57.0000 - val_fp: 13.0000 - val_tn: 45477.0000 - val_fn: 22.0000 - val_accuracy: 0.9992 - val_precision: 0.8143 - val_recall: 0.7215 - val_auc: 0.9108\n",
            "Epoch 18/100\n",
            "90/90 [==============================] - 1s 10ms/step - loss: 0.0038 - tp: 219.0000 - fp: 37.0000 - tn: 181913.0000 - fn: 107.0000 - accuracy: 0.9992 - precision: 0.8555 - recall: 0.6718 - auc: 0.9409 - val_loss: 0.0039 - val_tp: 56.0000 - val_fp: 10.0000 - val_tn: 45480.0000 - val_fn: 23.0000 - val_accuracy: 0.9993 - val_precision: 0.8485 - val_recall: 0.7089 - val_auc: 0.9109\n",
            "Epoch 19/100\n",
            "90/90 [==============================] - 1s 10ms/step - loss: 0.0038 - tp: 205.0000 - fp: 23.0000 - tn: 181927.0000 - fn: 121.0000 - accuracy: 0.9992 - precision: 0.8991 - recall: 0.6288 - auc: 0.9348 - val_loss: 0.0040 - val_tp: 57.0000 - val_fp: 12.0000 - val_tn: 45478.0000 - val_fn: 22.0000 - val_accuracy: 0.9993 - val_precision: 0.8261 - val_recall: 0.7215 - val_auc: 0.9109\n",
            "Epoch 20/100\n",
            "90/90 [==============================] - 1s 10ms/step - loss: 0.0039 - tp: 215.0000 - fp: 32.0000 - tn: 181918.0000 - fn: 111.0000 - accuracy: 0.9992 - precision: 0.8704 - recall: 0.6595 - auc: 0.9379 - val_loss: 0.0039 - val_tp: 57.0000 - val_fp: 11.0000 - val_tn: 45479.0000 - val_fn: 22.0000 - val_accuracy: 0.9993 - val_precision: 0.8382 - val_recall: 0.7215 - val_auc: 0.9109\n",
            "Epoch 21/100\n",
            "90/90 [==============================] - 1s 10ms/step - loss: 0.0037 - tp: 213.0000 - fp: 30.0000 - tn: 181920.0000 - fn: 113.0000 - accuracy: 0.9992 - precision: 0.8765 - recall: 0.6534 - auc: 0.9425 - val_loss: 0.0039 - val_tp: 58.0000 - val_fp: 12.0000 - val_tn: 45478.0000 - val_fn: 21.0000 - val_accuracy: 0.9993 - val_precision: 0.8286 - val_recall: 0.7342 - val_auc: 0.9109\n",
            "Epoch 22/100\n",
            "90/90 [==============================] - 1s 10ms/step - loss: 0.0036 - tp: 217.0000 - fp: 26.0000 - tn: 181924.0000 - fn: 109.0000 - accuracy: 0.9993 - precision: 0.8930 - recall: 0.6656 - auc: 0.9440 - val_loss: 0.0039 - val_tp: 58.0000 - val_fp: 11.0000 - val_tn: 45479.0000 - val_fn: 21.0000 - val_accuracy: 0.9993 - val_precision: 0.8406 - val_recall: 0.7342 - val_auc: 0.9109\n",
            "Epoch 23/100\n",
            "90/90 [==============================] - 1s 10ms/step - loss: 0.0034 - tp: 230.0000 - fp: 25.0000 - tn: 181925.0000 - fn: 96.0000 - accuracy: 0.9993 - precision: 0.9020 - recall: 0.7055 - auc: 0.9410 - val_loss: 0.0039 - val_tp: 58.0000 - val_fp: 11.0000 - val_tn: 45479.0000 - val_fn: 21.0000 - val_accuracy: 0.9993 - val_precision: 0.8406 - val_recall: 0.7342 - val_auc: 0.9108\n",
            "Epoch 24/100\n",
            "90/90 [==============================] - 1s 10ms/step - loss: 0.0035 - tp: 220.0000 - fp: 30.0000 - tn: 181920.0000 - fn: 106.0000 - accuracy: 0.9993 - precision: 0.8800 - recall: 0.6748 - auc: 0.9409 - val_loss: 0.0039 - val_tp: 58.0000 - val_fp: 11.0000 - val_tn: 45479.0000 - val_fn: 21.0000 - val_accuracy: 0.9993 - val_precision: 0.8406 - val_recall: 0.7342 - val_auc: 0.9109\n",
            "Epoch 25/100\n",
            "90/90 [==============================] - 1s 10ms/step - loss: 0.0037 - tp: 211.0000 - fp: 36.0000 - tn: 181914.0000 - fn: 115.0000 - accuracy: 0.9992 - precision: 0.8543 - recall: 0.6472 - auc: 0.9410 - val_loss: 0.0039 - val_tp: 58.0000 - val_fp: 11.0000 - val_tn: 45479.0000 - val_fn: 21.0000 - val_accuracy: 0.9993 - val_precision: 0.8406 - val_recall: 0.7342 - val_auc: 0.9109\n",
            "Epoch 26/100\n",
            "90/90 [==============================] - 1s 10ms/step - loss: 0.0036 - tp: 218.0000 - fp: 31.0000 - tn: 181919.0000 - fn: 108.0000 - accuracy: 0.9992 - precision: 0.8755 - recall: 0.6687 - auc: 0.9410 - val_loss: 0.0040 - val_tp: 58.0000 - val_fp: 12.0000 - val_tn: 45478.0000 - val_fn: 21.0000 - val_accuracy: 0.9993 - val_precision: 0.8286 - val_recall: 0.7342 - val_auc: 0.9109\n",
            "Epoch 27/100\n",
            "90/90 [==============================] - 1s 10ms/step - loss: 0.0038 - tp: 208.0000 - fp: 24.0000 - tn: 181926.0000 - fn: 118.0000 - accuracy: 0.9992 - precision: 0.8966 - recall: 0.6380 - auc: 0.9348 - val_loss: 0.0040 - val_tp: 58.0000 - val_fp: 14.0000 - val_tn: 45476.0000 - val_fn: 21.0000 - val_accuracy: 0.9992 - val_precision: 0.8056 - val_recall: 0.7342 - val_auc: 0.9108\n",
            "Epoch 28/100\n",
            "84/90 [===========================>..] - ETA: 0s - loss: 0.0038 - tp: 204.0000 - fp: 29.0000 - tn: 171688.0000 - fn: 111.0000 - accuracy: 0.9992 - precision: 0.8755 - recall: 0.6476 - auc: 0.9500Restoring model weights from the end of the best epoch.\n",
            "90/90 [==============================] - 1s 10ms/step - loss: 0.0038 - tp: 212.0000 - fp: 33.0000 - tn: 181917.0000 - fn: 114.0000 - accuracy: 0.9992 - precision: 0.8653 - recall: 0.6503 - auc: 0.9501 - val_loss: 0.0039 - val_tp: 58.0000 - val_fp: 11.0000 - val_tn: 45479.0000 - val_fn: 21.0000 - val_accuracy: 0.9993 - val_precision: 0.8406 - val_recall: 0.7342 - val_auc: 0.9109\n",
            "Epoch 00028: early stopping\n"
          ],
          "name": "stdout"
        }
      ]
    },
    {
      "cell_type": "markdown",
      "metadata": {
        "id": "P20H1uTrjy_t"
      },
      "source": [
        "### Check training history\n",
        "\n",
        "First, we write a function to plot the metrics."
      ]
    },
    {
      "cell_type": "code",
      "metadata": {
        "id": "FB1zLVgKi0p8"
      },
      "source": [
        "def plot_metrics(history,color_num = 0):\n",
        "  metrics =  ['loss', 'auc', 'precision', 'recall']\n",
        "  for n, metric in enumerate(metrics):\n",
        "    name = metric.replace(\"_\",\" \").capitalize()\n",
        "    plt.subplot(2,2,n+1)\n",
        "    plt.plot(history.epoch,  history.history[metric],color = colors[color_num], \n",
        "             label='Train')\n",
        "    plt.plot(history.epoch, history.history['val_'+metric],\n",
        "             colors[color_num], linestyle=\"--\", label='Val')\n",
        "    plt.xlabel('Epoch')\n",
        "    plt.ylabel(name)\n",
        "    if metric == 'loss':\n",
        "      plt.ylim([0, plt.ylim()[1]])\n",
        "    elif metric == 'auc':\n",
        "      plt.ylim([0.8,1])\n",
        "    else:\n",
        "      plt.ylim([0,1])\n",
        "\n",
        "    plt.legend()"
      ],
      "execution_count": null,
      "outputs": []
    },
    {
      "cell_type": "code",
      "metadata": {
        "id": "9Rt0WJEJkHEh",
        "outputId": "84a041cf-346b-44ca-9385-55260f932f74",
        "colab": {
          "base_uri": "https://localhost:8080/",
          "height": 609
        }
      },
      "source": [
        "plot_metrics(baseline_history, color_num = 0)"
      ],
      "execution_count": null,
      "outputs": [
        {
          "output_type": "display_data",
          "data": {
            "image/png": "[encoded data removed]",
            "text/plain": [
              "<Figure size 864x720 with 4 Axes>"
            ]
          },
          "metadata": {
            "tags": [],
            "needs_background": "light"
          }
        }
      ]
    },
    {
      "cell_type": "markdown",
      "metadata": {
        "id": "vPgCJdiQk0Wm"
      },
      "source": [
        "The model does is not overfitting. The validation curves are generally better than the training curves, which is due to the fact that during validation the Dropout layer is not active.\n",
        "\n",
        "### Metrics evaluation\n",
        "\n",
        "For this kind of problem, it is good to use a confusion matrix to get an idea of how well the model is classifying the positive and negative samples.\n",
        "\n"
      ]
    },
    {
      "cell_type": "code",
      "metadata": {
        "id": "dnOwSNbbkJfD",
        "outputId": "3f9ce3d9-b2e7-450a-dac1-fdf0c67bf4ca",
        "colab": {
          "base_uri": "https://localhost:8080/"
        }
      },
      "source": [
        "train_predictions_baseline = model.predict(train_features, batch_size=BATCH_SIZE)\n",
        "test_predictions_baseline = model.predict(test_features, batch_size=BATCH_SIZE)"
      ],
      "execution_count": null,
      "outputs": [
        {
          "output_type": "stream",
          "text": [
            "WARNING:tensorflow:6 out of the last 11 calls to <function Model.make_predict_function.<locals>.predict_function at 0x7f06c18b7b70> triggered tf.function retracing. Tracing is expensive and the excessive number of tracings could be due to (1) creating @tf.function repeatedly in a loop, (2) passing tensors with different shapes, (3) passing Python objects instead of tensors. For (1), please define your @tf.function outside of the loop. For (2), @tf.function has experimental_relax_shapes=True option that relaxes argument shapes that can avoid unnecessary retracing. For (3), please refer to https://www.tensorflow.org/tutorials/customization/performance#python_or_tensor_args and https://www.tensorflow.org/api_docs/python/tf/function for  more details.\n"
          ],
          "name": "stdout"
        }
      ]
    },
    {
      "cell_type": "markdown",
      "metadata": {
        "id": "dFYJMTVJ_mVB"
      },
      "source": [
        "We begin by writing a function to plot the confusion matrix, using sklearn."
      ]
    },
    {
      "cell_type": "code",
      "metadata": {
        "id": "4gG5WO-Ok5nZ"
      },
      "source": [
        "def plot_cm(labels, predictions, p=0.5):\n",
        "  cm = confusion_matrix(labels, predictions > p)\n",
        "  plt.figure(figsize=(5,5))\n",
        "  sns.heatmap(cm, annot=True, fmt=\"d\")\n",
        "  plt.title('Confusion matrix @{:.2f}'.format(p))\n",
        "  plt.ylabel('Actual label')\n",
        "  plt.xlabel('Predicted label')\n",
        "\n",
        "  print('Legitimate Transactions Detected (True Negatives): ', cm[0][0])\n",
        "  print('Legitimate Transactions Incorrectly Detected (False Positives): ', cm[0][1])\n",
        "  print('Fraudulent Transactions Missed (False Negatives): ', cm[1][0])\n",
        "  print('Fraudulent Transactions Detected (True Positives): ', cm[1][1])\n",
        "  print('Total Fraudulent Transactions: ', np.sum(cm[1]))"
      ],
      "execution_count": null,
      "outputs": []
    },
    {
      "cell_type": "markdown",
      "metadata": {
        "id": "DFIE38W4lTpw"
      },
      "source": [
        "Let' evaluate how the model performs."
      ]
    },
    {
      "cell_type": "code",
      "metadata": {
        "id": "FHhxClhvk6Q3",
        "outputId": "4f600c04-f3dd-49c9-952d-496f4e0e0b30",
        "colab": {
          "base_uri": "https://localhost:8080/",
          "height": 602
        }
      },
      "source": [
        "baseline_results = model.evaluate(test_features, test_labels,\n",
        "                                  batch_size=BATCH_SIZE, verbose=0)\n",
        "for name, value in zip(model.metrics_names, baseline_results):\n",
        "  print(name, ': ', value)\n",
        "print()\n",
        "\n",
        "plot_cm(test_labels, test_predictions_baseline)"
      ],
      "execution_count": null,
      "outputs": [
        {
          "output_type": "stream",
          "text": [
            "loss :  0.003030603751540184\n",
            "tp :  64.0\n",
            "fp :  11.0\n",
            "tn :  56864.0\n",
            "fn :  23.0\n",
            "accuracy :  0.9994031190872192\n",
            "precision :  0.8533333539962769\n",
            "recall :  0.7356321811676025\n",
            "auc :  0.9249842166900635\n",
            "\n",
            "Legitimate Transactions Detected (True Negatives):  56864\n",
            "Legitimate Transactions Incorrectly Detected (False Positives):  11\n",
            "Fraudulent Transactions Missed (False Negatives):  23\n",
            "Fraudulent Transactions Detected (True Positives):  64\n",
            "Total Fraudulent Transactions:  87\n"
          ],
          "name": "stdout"
        },
        {
          "output_type": "display_data",
          "data": {
            "image/png": "[encoded data removed]",
            "text/plain": [
              "<Figure size 360x360 with 2 Axes>"
            ]
          },
          "metadata": {
            "tags": [],
            "needs_background": "light"
          }
        }
      ]
    },
    {
      "cell_type": "markdown",
      "metadata": {
        "id": "u0-Q6a1YT_1M"
      },
      "source": [
        "The model has a precision of 87%, which means that whenever it calls positive, it is right in 87% of the time. However, the recall of 57% means that from all the positive samples, it detected only 57% of that, which means 54 frauds out of 94. It also classified only 8 legitimate transactions as frauds.\n",
        "\n",
        "These are not good results in the context of this problem. Although the number of legitimate transactions classified as frauds is low, the number of undetected frauds is too high. Both cases decrease the customer's happiness, but surely the second case is far worse than the first, as it also will involve financial costs and lower the confidence the customer has in the bank security system. Therefore, it would be better to increase the number of detected frauds (true positives), even if that results in more legitimate transactions being classified as frauds (false positives). "
      ]
    },
    {
      "cell_type": "markdown",
      "metadata": {
        "id": "RB4AZxBcrCdn"
      },
      "source": [
        "###Plot the ROC curve\n",
        "\n",
        "Plot the ROC curve and calculate the AUC."
      ]
    },
    {
      "cell_type": "code",
      "metadata": {
        "id": "CI6SPPx9rBRP"
      },
      "source": [
        "def plot_roc(name, labels, predictions, **kwargs):\n",
        "  fp, tp, _ = sklearn.metrics.roc_curve(labels, predictions)\n",
        "\n",
        "  plt.plot(100*fp, 100*tp, label=name, linewidth=2, **kwargs)\n",
        "  plt.xlabel('False positives [%]')\n",
        "  plt.ylabel('True positives [%]')\n",
        "  plt.xlim([-1,100.5])\n",
        "  plt.ylim([-1,100.5])\n",
        "  plt.grid(True)\n",
        "  ax = plt.gca()\n",
        "  ax.set_aspect('equal')"
      ],
      "execution_count": null,
      "outputs": []
    },
    {
      "cell_type": "code",
      "metadata": {
        "id": "Uzw_jbmurKuR",
        "outputId": "b397e335-6fba-4117-e38e-ffacca275b60",
        "colab": {
          "base_uri": "https://localhost:8080/",
          "height": 624
        }
      },
      "source": [
        "plot_roc(\"Train Baseline\", train_labels, train_predictions_baseline, color=colors[0])\n",
        "plot_roc(\"Test Baseline\", test_labels, test_predictions_baseline, color=colors[0], linestyle='--')\n",
        "plt.legend(loc='lower right')"
      ],
      "execution_count": null,
      "outputs": [
        {
          "output_type": "execute_result",
          "data": {
            "text/plain": [
              "<matplotlib.legend.Legend at 0x7f06b6c4ccc0>"
            ]
          },
          "metadata": {
            "tags": []
          },
          "execution_count": 427
        },
        {
          "output_type": "display_data",
          "data": {
            "image/png": "[encoded data removed]",
            "text/plain": [
              "<Figure size 864x720 with 1 Axes>"
            ]
          },
          "metadata": {
            "tags": [],
            "needs_background": "light"
          }
        }
      ]
    },
    {
      "cell_type": "markdown",
      "metadata": {
        "id": "SFIAd0Jns50v"
      },
      "source": [
        "The AUC of 0.89 could be higher.\n",
        "\n",
        "##Class weights\n",
        "\n",
        "The fact that there are too few positive samples compared to the large amount of negative samples is a problem that cannot be neglected. A way to improve this model is to put weight on the positive samples, that is, forcing the model to \"pay more attention\" to the positive samples. This is done by passing Keras weights for each class through a parameter. \n",
        "\n",
        "Let's see how this improve our results. First, we need to define the weights:"
      ]
    },
    {
      "cell_type": "code",
      "metadata": {
        "id": "stgnMQ5_oG6-",
        "outputId": "4a2dc4a6-0b35-4943-d71e-ee99a0452f1f",
        "colab": {
          "base_uri": "https://localhost:8080/"
        }
      },
      "source": [
        "# Scaling by total/2 helps keep the loss to a similar magnitude.\n",
        "# The sum of the weights of all examples stays the same.\n",
        "weight_for_0 = (1 / neg)*(total)/2.0 \n",
        "weight_for_1 = (1 / pos)*(total)/2.0\n",
        "\n",
        "class_weight = {0: weight_for_0, 1: weight_for_1}\n",
        "\n",
        "print('Weight for class 0: {:.2f}'.format(weight_for_0))\n",
        "print('Weight for class 1: {:.2f}'.format(weight_for_1))"
      ],
      "execution_count": null,
      "outputs": [
        {
          "output_type": "stream",
          "text": [
            "Weight for class 0: 0.50\n",
            "Weight for class 1: 289.44\n"
          ],
          "name": "stdout"
        }
      ]
    },
    {
      "cell_type": "markdown",
      "metadata": {
        "id": "nRBHUpgPoM34"
      },
      "source": [
        "The scaling by total/2 is needed to keep the loss to a similar magnitude. "
      ]
    },
    {
      "cell_type": "markdown",
      "metadata": {
        "id": "Eg1ydYtEopiM"
      },
      "source": [
        "### Train a model with class weights\n",
        "\n"
      ]
    },
    {
      "cell_type": "code",
      "metadata": {
        "id": "YCyDHNZTtpZN",
        "outputId": "7c0a732b-3485-4970-9c9f-a5c24bbb2ca4",
        "colab": {
          "base_uri": "https://localhost:8080/"
        }
      },
      "source": [
        "weighted_model = make_model(output_bias = initial_bias)\n",
        "\n",
        "weighted_history = weighted_model.fit(\n",
        "    train_features,\n",
        "    train_labels,\n",
        "    batch_size=BATCH_SIZE,\n",
        "    epochs=EPOCHS,\n",
        "    callbacks = [early_stopping],\n",
        "    validation_data=(val_features, val_labels),\n",
        "    class_weight=class_weight # Here we define the class weights\n",
        "    ) "
      ],
      "execution_count": null,
      "outputs": [
        {
          "output_type": "stream",
          "text": [
            "Epoch 1/100\n",
            "90/90 [==============================] - 2s 18ms/step - loss: 3.0186 - tp: 89.0000 - fp: 43.0000 - tn: 238782.0000 - fn: 324.0000 - accuracy: 0.9985 - precision: 0.6742 - recall: 0.2155 - auc: 0.7165 - val_loss: 0.0079 - val_tp: 4.0000 - val_fp: 0.0000e+00 - val_tn: 45490.0000 - val_fn: 75.0000 - val_accuracy: 0.9984 - val_precision: 1.0000 - val_recall: 0.0506 - val_auc: 0.8779\n",
            "Epoch 2/100\n",
            "90/90 [==============================] - 1s 9ms/step - loss: 1.4783 - tp: 122.0000 - fp: 127.0000 - tn: 181823.0000 - fn: 204.0000 - accuracy: 0.9982 - precision: 0.4900 - recall: 0.3742 - auc: 0.8244 - val_loss: 0.0071 - val_tp: 54.0000 - val_fp: 13.0000 - val_tn: 45477.0000 - val_fn: 25.0000 - val_accuracy: 0.9992 - val_precision: 0.8060 - val_recall: 0.6835 - val_auc: 0.9154\n",
            "Epoch 3/100\n",
            "90/90 [==============================] - 1s 10ms/step - loss: 0.7616 - tp: 209.0000 - fp: 268.0000 - tn: 181682.0000 - fn: 117.0000 - accuracy: 0.9979 - precision: 0.4382 - recall: 0.6411 - auc: 0.9152 - val_loss: 0.0097 - val_tp: 58.0000 - val_fp: 22.0000 - val_tn: 45468.0000 - val_fn: 21.0000 - val_accuracy: 0.9991 - val_precision: 0.7250 - val_recall: 0.7342 - val_auc: 0.9413\n",
            "Epoch 4/100\n",
            "90/90 [==============================] - 1s 10ms/step - loss: 0.6086 - tp: 234.0000 - fp: 494.0000 - tn: 181456.0000 - fn: 92.0000 - accuracy: 0.9968 - precision: 0.3214 - recall: 0.7178 - auc: 0.9280 - val_loss: 0.0127 - val_tp: 58.0000 - val_fp: 28.0000 - val_tn: 45462.0000 - val_fn: 21.0000 - val_accuracy: 0.9989 - val_precision: 0.6744 - val_recall: 0.7342 - val_auc: 0.9393\n",
            "Epoch 5/100\n",
            "90/90 [==============================] - 1s 10ms/step - loss: 0.4677 - tp: 251.0000 - fp: 836.0000 - tn: 181114.0000 - fn: 75.0000 - accuracy: 0.9950 - precision: 0.2309 - recall: 0.7699 - auc: 0.9378 - val_loss: 0.0170 - val_tp: 61.0000 - val_fp: 51.0000 - val_tn: 45439.0000 - val_fn: 18.0000 - val_accuracy: 0.9985 - val_precision: 0.5446 - val_recall: 0.7722 - val_auc: 0.9427\n",
            "Epoch 6/100\n",
            "90/90 [==============================] - 1s 10ms/step - loss: 0.3830 - tp: 262.0000 - fp: 1550.0000 - tn: 180400.0000 - fn: 64.0000 - accuracy: 0.9911 - precision: 0.1446 - recall: 0.8037 - auc: 0.9499 - val_loss: 0.0232 - val_tp: 63.0000 - val_fp: 90.0000 - val_tn: 45400.0000 - val_fn: 16.0000 - val_accuracy: 0.9977 - val_precision: 0.4118 - val_recall: 0.7975 - val_auc: 0.9461\n",
            "Epoch 7/100\n",
            "90/90 [==============================] - 1s 10ms/step - loss: 0.3228 - tp: 274.0000 - fp: 2297.0000 - tn: 179653.0000 - fn: 52.0000 - accuracy: 0.9871 - precision: 0.1066 - recall: 0.8405 - auc: 0.9566 - val_loss: 0.0292 - val_tp: 65.0000 - val_fp: 142.0000 - val_tn: 45348.0000 - val_fn: 14.0000 - val_accuracy: 0.9966 - val_precision: 0.3140 - val_recall: 0.8228 - val_auc: 0.9545\n",
            "Epoch 8/100\n",
            "90/90 [==============================] - 1s 10ms/step - loss: 0.2840 - tp: 277.0000 - fp: 3073.0000 - tn: 178877.0000 - fn: 49.0000 - accuracy: 0.9829 - precision: 0.0827 - recall: 0.8497 - auc: 0.9633 - val_loss: 0.0392 - val_tp: 65.0000 - val_fp: 369.0000 - val_tn: 45121.0000 - val_fn: 14.0000 - val_accuracy: 0.9916 - val_precision: 0.1498 - val_recall: 0.8228 - val_auc: 0.9506\n",
            "Epoch 9/100\n",
            "90/90 [==============================] - 1s 10ms/step - loss: 0.3158 - tp: 276.0000 - fp: 3821.0000 - tn: 178129.0000 - fn: 50.0000 - accuracy: 0.9788 - precision: 0.0674 - recall: 0.8466 - auc: 0.9487 - val_loss: 0.0462 - val_tp: 65.0000 - val_fp: 483.0000 - val_tn: 45007.0000 - val_fn: 14.0000 - val_accuracy: 0.9891 - val_precision: 0.1186 - val_recall: 0.8228 - val_auc: 0.9491\n",
            "Epoch 10/100\n",
            "90/90 [==============================] - 1s 10ms/step - loss: 0.3087 - tp: 279.0000 - fp: 4610.0000 - tn: 177340.0000 - fn: 47.0000 - accuracy: 0.9745 - precision: 0.0571 - recall: 0.8558 - auc: 0.9502 - val_loss: 0.0548 - val_tp: 66.0000 - val_fp: 643.0000 - val_tn: 44847.0000 - val_fn: 13.0000 - val_accuracy: 0.9856 - val_precision: 0.0931 - val_recall: 0.8354 - val_auc: 0.9508\n",
            "Epoch 11/100\n",
            "90/90 [==============================] - 1s 10ms/step - loss: 0.2628 - tp: 283.0000 - fp: 5252.0000 - tn: 176698.0000 - fn: 43.0000 - accuracy: 0.9710 - precision: 0.0511 - recall: 0.8681 - auc: 0.9648 - val_loss: 0.0622 - val_tp: 67.0000 - val_fp: 734.0000 - val_tn: 44756.0000 - val_fn: 12.0000 - val_accuracy: 0.9836 - val_precision: 0.0836 - val_recall: 0.8481 - val_auc: 0.9495\n",
            "Epoch 12/100\n",
            "90/90 [==============================] - 1s 10ms/step - loss: 0.2327 - tp: 293.0000 - fp: 5452.0000 - tn: 176498.0000 - fn: 33.0000 - accuracy: 0.9699 - precision: 0.0510 - recall: 0.8988 - auc: 0.9692 - val_loss: 0.0650 - val_tp: 67.0000 - val_fp: 772.0000 - val_tn: 44718.0000 - val_fn: 12.0000 - val_accuracy: 0.9828 - val_precision: 0.0799 - val_recall: 0.8481 - val_auc: 0.9491\n",
            "Epoch 13/100\n",
            "90/90 [==============================] - 1s 10ms/step - loss: 0.2693 - tp: 283.0000 - fp: 5875.0000 - tn: 176075.0000 - fn: 43.0000 - accuracy: 0.9675 - precision: 0.0460 - recall: 0.8681 - auc: 0.9606 - val_loss: 0.0705 - val_tp: 67.0000 - val_fp: 832.0000 - val_tn: 44658.0000 - val_fn: 12.0000 - val_accuracy: 0.9815 - val_precision: 0.0745 - val_recall: 0.8481 - val_auc: 0.9537\n",
            "Epoch 14/100\n",
            "90/90 [==============================] - 1s 10ms/step - loss: 0.2558 - tp: 288.0000 - fp: 6035.0000 - tn: 175915.0000 - fn: 38.0000 - accuracy: 0.9667 - precision: 0.0455 - recall: 0.8834 - auc: 0.9609 - val_loss: 0.0729 - val_tp: 67.0000 - val_fp: 848.0000 - val_tn: 44642.0000 - val_fn: 12.0000 - val_accuracy: 0.9811 - val_precision: 0.0732 - val_recall: 0.8481 - val_auc: 0.9481\n",
            "Epoch 15/100\n",
            "90/90 [==============================] - 1s 10ms/step - loss: 0.2221 - tp: 290.0000 - fp: 6093.0000 - tn: 175857.0000 - fn: 36.0000 - accuracy: 0.9664 - precision: 0.0454 - recall: 0.8896 - auc: 0.9721 - val_loss: 0.0754 - val_tp: 67.0000 - val_fp: 855.0000 - val_tn: 44635.0000 - val_fn: 12.0000 - val_accuracy: 0.9810 - val_precision: 0.0727 - val_recall: 0.8481 - val_auc: 0.9481\n",
            "Epoch 16/100\n",
            "90/90 [==============================] - 1s 10ms/step - loss: 0.1897 - tp: 298.0000 - fp: 6153.0000 - tn: 175797.0000 - fn: 28.0000 - accuracy: 0.9661 - precision: 0.0462 - recall: 0.9141 - auc: 0.9763 - val_loss: 0.0746 - val_tp: 67.0000 - val_fp: 846.0000 - val_tn: 44644.0000 - val_fn: 12.0000 - val_accuracy: 0.9812 - val_precision: 0.0734 - val_recall: 0.8481 - val_auc: 0.9486\n",
            "Epoch 17/100\n",
            "89/90 [============================>.] - ETA: 0s - loss: 0.2083 - tp: 293.0000 - fp: 6023.0000 - tn: 175923.0000 - fn: 33.0000 - accuracy: 0.9668 - precision: 0.0464 - recall: 0.8988 - auc: 0.9731Restoring model weights from the end of the best epoch.\n",
            "90/90 [==============================] - 1s 10ms/step - loss: 0.2083 - tp: 293.0000 - fp: 6023.0000 - tn: 175927.0000 - fn: 33.0000 - accuracy: 0.9668 - precision: 0.0464 - recall: 0.8988 - auc: 0.9731 - val_loss: 0.0742 - val_tp: 67.0000 - val_fp: 837.0000 - val_tn: 44653.0000 - val_fn: 12.0000 - val_accuracy: 0.9814 - val_precision: 0.0741 - val_recall: 0.8481 - val_auc: 0.9512\n",
            "Epoch 00017: early stopping\n"
          ],
          "name": "stdout"
        }
      ]
    },
    {
      "cell_type": "markdown",
      "metadata": {
        "id": "djTNwwJ7r7I4"
      },
      "source": [
        "### Check training history"
      ]
    },
    {
      "cell_type": "code",
      "metadata": {
        "id": "KQsNg_zTtsLe",
        "outputId": "730b1449-6fc9-4eae-9d11-90d486676859",
        "colab": {
          "base_uri": "https://localhost:8080/",
          "height": 609
        }
      },
      "source": [
        "plot_metrics(weighted_history,color_num=1)"
      ],
      "execution_count": null,
      "outputs": [
        {
          "output_type": "display_data",
          "data": {
            "image/png": "[encoded data removed]",
            "text/plain": [
              "<Figure size 864x720 with 4 Axes>"
            ]
          },
          "metadata": {
            "tags": [],
            "needs_background": "light"
          }
        }
      ]
    },
    {
      "cell_type": "markdown",
      "metadata": {
        "id": "xRD53X1Ht1ys"
      },
      "source": [
        "### Evaluate metrics:"
      ]
    },
    {
      "cell_type": "code",
      "metadata": {
        "id": "o5CwQoOktzHy",
        "outputId": "419801dd-5e6d-4c20-e73d-282b5c8a2fba",
        "colab": {
          "base_uri": "https://localhost:8080/",
          "height": 602
        }
      },
      "source": [
        "train_predictions_weighted = weighted_model.predict(train_features, batch_size=BATCH_SIZE)\n",
        "test_predictions_weighted = weighted_model.predict(test_features, batch_size=BATCH_SIZE)\n",
        "\n",
        "weighted_results = weighted_model.evaluate(test_features, test_labels,\n",
        "                                           batch_size=BATCH_SIZE, verbose=0)\n",
        "for name, value in zip(weighted_model.metrics_names, weighted_results):\n",
        "  print(name, ': ', value)\n",
        "print()\n",
        "\n",
        "plot_cm(test_labels, test_predictions_weighted)"
      ],
      "execution_count": null,
      "outputs": [
        {
          "output_type": "stream",
          "text": [
            "loss :  0.027062147855758667\n",
            "tp :  74.0\n",
            "fp :  167.0\n",
            "tn :  56708.0\n",
            "fn :  13.0\n",
            "accuracy :  0.9968400001525879\n",
            "precision :  0.30705395340919495\n",
            "recall :  0.8505747318267822\n",
            "auc :  0.9699784517288208\n",
            "\n",
            "Legitimate Transactions Detected (True Negatives):  56708\n",
            "Legitimate Transactions Incorrectly Detected (False Positives):  167\n",
            "Fraudulent Transactions Missed (False Negatives):  13\n",
            "Fraudulent Transactions Detected (True Positives):  74\n",
            "Total Fraudulent Transactions:  87\n"
          ],
          "name": "stdout"
        },
        {
          "output_type": "display_data",
          "data": {
            "image/png": "[encoded data removed]",
            "text/plain": [
              "<Figure size 360x360 with 2 Axes>"
            ]
          },
          "metadata": {
            "tags": [],
            "needs_background": "light"
          }
        }
      ]
    },
    {
      "cell_type": "markdown",
      "metadata": {
        "id": "wVVELCGqsZup"
      },
      "source": [
        "With the class weights, the model could detect 89% of the fradulent transactions (84 out of 94), with an AUC of 0.97. This is a nice result, but comes with the downside of classifying 996 legitimate transactions as fraudulent. But, as discussed before, this is better than missing positive samples. This is all reflected by the high recall the high recall (0.89) and low precision (0.07).\n",
        "\n",
        "\n",
        "###Plot the ROC curve"
      ]
    },
    {
      "cell_type": "code",
      "metadata": {
        "id": "je2o1sImt8pq",
        "outputId": "2cda4440-23c7-4418-c33c-228a9b30ad45",
        "colab": {
          "base_uri": "https://localhost:8080/",
          "height": 624
        }
      },
      "source": [
        "plot_roc(\"Train Baseline\", train_labels, train_predictions_baseline, color=colors[0])\n",
        "plot_roc(\"Test Baseline\", test_labels, test_predictions_baseline, color=colors[0], linestyle='--')\n",
        "\n",
        "plot_roc(\"Train Weighted\", train_labels, train_predictions_weighted, color=colors[1])\n",
        "plot_roc(\"Test Weighted\", test_labels, test_predictions_weighted, color=colors[1], linestyle='--')\n",
        "\n",
        "plt.legend(loc='lower right')"
      ],
      "execution_count": null,
      "outputs": [
        {
          "output_type": "execute_result",
          "data": {
            "text/plain": [
              "<matplotlib.legend.Legend at 0x7f06b6c39828>"
            ]
          },
          "metadata": {
            "tags": []
          },
          "execution_count": 432
        },
        {
          "output_type": "display_data",
          "data": {
            "image/png": "[encoded data removed]",
            "text/plain": [
              "<Figure size 864x720 with 1 Axes>"
            ]
          },
          "metadata": {
            "tags": [],
            "needs_background": "light"
          }
        }
      ]
    },
    {
      "cell_type": "markdown",
      "metadata": {
        "id": "XLoKLzzP3bRG"
      },
      "source": [
        "## Random undersampling \n",
        "\n",
        "A second alternative to solve the imbalance problem is to implement \"Random Under Sampling\", which consists of removing data from the majority class (non-fraud) in oredr to have a balanced dataset.\n",
        "\n",
        "1. First, we determine how many fraud samples there are (we already did this there are 492 fraud samples)\n",
        "2. Then, we bring that same amount of non-fraud transactions (chosen randomly) and put them together into a new dataframe, which will have a 50/50 ratio of fraud and non-fraud transactions. \n",
        "\n",
        "The problem with doing the Random under-sampling is the risk to lose information, as we are taking only 492 non-fraud samples from a set of 284,314. "
      ]
    },
    {
      "cell_type": "code",
      "metadata": {
        "id": "rqZO65an5-sM",
        "outputId": "3244f370-b9c9-4616-cd78-f916160a194f",
        "colab": {
          "base_uri": "https://localhost:8080/",
          "height": 321
        }
      },
      "source": [
        "# amount of fraud classes 492 rows.\n",
        "fraud_df = cleaned_df.loc[cleaned_df['Class'] == 1]\n",
        "non_fraud_df = cleaned_df.loc[cleaned_df['Class'] == 0][:492]\n",
        "\n",
        "normal_distributed_df = pd.concat([fraud_df, non_fraud_df])\n",
        "\n",
        "# Shuffle dataframe rows\n",
        "under_df = normal_distributed_df.sample(frac=1, random_state=42)\n",
        "\n",
        "under_df.describe()"
      ],
      "execution_count": null,
      "outputs": [
        {
          "output_type": "execute_result",
          "data": {
            "text/html": [
              "<div>\n",
              "<style scoped>\n",
              "    .dataframe tbody tr th:only-of-type {\n",
              "        vertical-align: middle;\n",
              "    }\n",
              "\n",
              "    .dataframe tbody tr th {\n",
              "        vertical-align: top;\n",
              "    }\n",
              "\n",
              "    .dataframe thead th {\n",
              "        text-align: right;\n",
              "    }\n",
              "</style>\n",
              "<table border=\"1\" class=\"dataframe\">\n",
              "  <thead>\n",
              "    <tr style=\"text-align: right;\">\n",
              "      <th></th>\n",
              "      <th>V1</th>\n",
              "      <th>V2</th>\n",
              "      <th>V3</th>\n",
              "      <th>V4</th>\n",
              "      <th>V5</th>\n",
              "      <th>V6</th>\n",
              "      <th>V7</th>\n",
              "      <th>V8</th>\n",
              "      <th>V9</th>\n",
              "      <th>V10</th>\n",
              "      <th>V11</th>\n",
              "      <th>V12</th>\n",
              "      <th>V13</th>\n",
              "      <th>V14</th>\n",
              "      <th>V15</th>\n",
              "      <th>V16</th>\n",
              "      <th>V17</th>\n",
              "      <th>V18</th>\n",
              "      <th>V19</th>\n",
              "      <th>V20</th>\n",
              "      <th>V21</th>\n",
              "      <th>V22</th>\n",
              "      <th>V23</th>\n",
              "      <th>V24</th>\n",
              "      <th>V25</th>\n",
              "      <th>V26</th>\n",
              "      <th>V27</th>\n",
              "      <th>V28</th>\n",
              "      <th>Class</th>\n",
              "      <th>Log Amount</th>\n",
              "    </tr>\n",
              "  </thead>\n",
              "  <tbody>\n",
              "    <tr>\n",
              "      <th>count</th>\n",
              "      <td>984.000000</td>\n",
              "      <td>984.000000</td>\n",
              "      <td>984.000000</td>\n",
              "      <td>984.000000</td>\n",
              "      <td>984.000000</td>\n",
              "      <td>984.000000</td>\n",
              "      <td>984.000000</td>\n",
              "      <td>984.000000</td>\n",
              "      <td>984.000000</td>\n",
              "      <td>984.000000</td>\n",
              "      <td>984.000000</td>\n",
              "      <td>984.000000</td>\n",
              "      <td>984.000000</td>\n",
              "      <td>984.000000</td>\n",
              "      <td>984.000000</td>\n",
              "      <td>984.000000</td>\n",
              "      <td>984.000000</td>\n",
              "      <td>984.000000</td>\n",
              "      <td>984.000000</td>\n",
              "      <td>984.000000</td>\n",
              "      <td>984.000000</td>\n",
              "      <td>984.000000</td>\n",
              "      <td>984.000000</td>\n",
              "      <td>984.000000</td>\n",
              "      <td>984.000000</td>\n",
              "      <td>984.000000</td>\n",
              "      <td>984.000000</td>\n",
              "      <td>984.000000</td>\n",
              "      <td>984.000000</td>\n",
              "      <td>984.000000</td>\n",
              "    </tr>\n",
              "    <tr>\n",
              "      <th>mean</th>\n",
              "      <td>-2.467403</td>\n",
              "      <td>1.905304</td>\n",
              "      <td>-3.083884</td>\n",
              "      <td>2.456780</td>\n",
              "      <td>-1.561726</td>\n",
              "      <td>-0.572584</td>\n",
              "      <td>-2.730903</td>\n",
              "      <td>0.261082</td>\n",
              "      <td>-1.301145</td>\n",
              "      <td>-2.805194</td>\n",
              "      <td>1.952535</td>\n",
              "      <td>-2.995317</td>\n",
              "      <td>-0.090291</td>\n",
              "      <td>-3.597227</td>\n",
              "      <td>0.062751</td>\n",
              "      <td>-2.157125</td>\n",
              "      <td>-3.366095</td>\n",
              "      <td>-1.218706</td>\n",
              "      <td>0.335945</td>\n",
              "      <td>0.211179</td>\n",
              "      <td>0.354898</td>\n",
              "      <td>-0.044481</td>\n",
              "      <td>-0.036529</td>\n",
              "      <td>-0.047380</td>\n",
              "      <td>0.087571</td>\n",
              "      <td>0.026120</td>\n",
              "      <td>0.096182</td>\n",
              "      <td>0.027865</td>\n",
              "      <td>0.500000</td>\n",
              "      <td>2.493201</td>\n",
              "    </tr>\n",
              "    <tr>\n",
              "      <th>std</th>\n",
              "      <td>5.407122</td>\n",
              "      <td>3.596109</td>\n",
              "      <td>6.435905</td>\n",
              "      <td>3.042722</td>\n",
              "      <td>4.202692</td>\n",
              "      <td>1.803657</td>\n",
              "      <td>5.863242</td>\n",
              "      <td>4.850081</td>\n",
              "      <td>2.266780</td>\n",
              "      <td>4.549493</td>\n",
              "      <td>2.736980</td>\n",
              "      <td>4.657383</td>\n",
              "      <td>1.010213</td>\n",
              "      <td>4.568241</td>\n",
              "      <td>1.002187</td>\n",
              "      <td>3.424393</td>\n",
              "      <td>5.953541</td>\n",
              "      <td>2.358768</td>\n",
              "      <td>1.284338</td>\n",
              "      <td>1.061353</td>\n",
              "      <td>2.787267</td>\n",
              "      <td>1.145080</td>\n",
              "      <td>1.148960</td>\n",
              "      <td>0.586683</td>\n",
              "      <td>0.640419</td>\n",
              "      <td>0.468299</td>\n",
              "      <td>1.003732</td>\n",
              "      <td>0.442955</td>\n",
              "      <td>0.500254</td>\n",
              "      <td>2.658696</td>\n",
              "    </tr>\n",
              "    <tr>\n",
              "      <th>min</th>\n",
              "      <td>-30.552380</td>\n",
              "      <td>-12.114213</td>\n",
              "      <td>-31.103685</td>\n",
              "      <td>-4.515824</td>\n",
              "      <td>-22.105532</td>\n",
              "      <td>-6.406267</td>\n",
              "      <td>-43.557242</td>\n",
              "      <td>-41.044261</td>\n",
              "      <td>-13.434066</td>\n",
              "      <td>-24.588262</td>\n",
              "      <td>-2.332011</td>\n",
              "      <td>-18.683715</td>\n",
              "      <td>-3.127795</td>\n",
              "      <td>-19.214325</td>\n",
              "      <td>-4.498945</td>\n",
              "      <td>-14.129855</td>\n",
              "      <td>-25.162799</td>\n",
              "      <td>-9.498746</td>\n",
              "      <td>-3.681904</td>\n",
              "      <td>-4.128186</td>\n",
              "      <td>-22.797604</td>\n",
              "      <td>-8.887017</td>\n",
              "      <td>-19.254328</td>\n",
              "      <td>-2.028024</td>\n",
              "      <td>-4.781606</td>\n",
              "      <td>-1.243924</td>\n",
              "      <td>-7.263482</td>\n",
              "      <td>-2.733887</td>\n",
              "      <td>0.000000</td>\n",
              "      <td>-6.907755</td>\n",
              "    </tr>\n",
              "    <tr>\n",
              "      <th>25%</th>\n",
              "      <td>-2.788129</td>\n",
              "      <td>0.085200</td>\n",
              "      <td>-5.084967</td>\n",
              "      <td>0.345951</td>\n",
              "      <td>-1.692661</td>\n",
              "      <td>-1.442584</td>\n",
              "      <td>-3.060742</td>\n",
              "      <td>-0.170996</td>\n",
              "      <td>-2.222204</td>\n",
              "      <td>-4.572043</td>\n",
              "      <td>-0.188237</td>\n",
              "      <td>-5.495221</td>\n",
              "      <td>-0.786301</td>\n",
              "      <td>-6.721799</td>\n",
              "      <td>-0.510123</td>\n",
              "      <td>-3.543426</td>\n",
              "      <td>-5.317584</td>\n",
              "      <td>-1.853739</td>\n",
              "      <td>-0.488002</td>\n",
              "      <td>-0.166192</td>\n",
              "      <td>-0.173785</td>\n",
              "      <td>-0.533915</td>\n",
              "      <td>-0.226458</td>\n",
              "      <td>-0.415078</td>\n",
              "      <td>-0.216776</td>\n",
              "      <td>-0.296613</td>\n",
              "      <td>-0.039310</td>\n",
              "      <td>-0.049952</td>\n",
              "      <td>0.000000</td>\n",
              "      <td>0.582774</td>\n",
              "    </tr>\n",
              "    <tr>\n",
              "      <th>50%</th>\n",
              "      <td>-0.781327</td>\n",
              "      <td>0.954502</td>\n",
              "      <td>-0.309446</td>\n",
              "      <td>1.383210</td>\n",
              "      <td>-0.390293</td>\n",
              "      <td>-0.510317</td>\n",
              "      <td>-0.433163</td>\n",
              "      <td>0.153493</td>\n",
              "      <td>-0.584912</td>\n",
              "      <td>-0.594065</td>\n",
              "      <td>1.199952</td>\n",
              "      <td>-0.514868</td>\n",
              "      <td>-0.047583</td>\n",
              "      <td>-1.041415</td>\n",
              "      <td>0.148834</td>\n",
              "      <td>-0.728592</td>\n",
              "      <td>-0.510419</td>\n",
              "      <td>-0.479214</td>\n",
              "      <td>0.224047</td>\n",
              "      <td>0.052782</td>\n",
              "      <td>0.093024</td>\n",
              "      <td>-0.028825</td>\n",
              "      <td>-0.050720</td>\n",
              "      <td>0.027849</td>\n",
              "      <td>0.127459</td>\n",
              "      <td>-0.015632</td>\n",
              "      <td>0.065185</td>\n",
              "      <td>0.037457</td>\n",
              "      <td>0.500000</td>\n",
              "      <td>2.767010</td>\n",
              "    </tr>\n",
              "    <tr>\n",
              "      <th>75%</th>\n",
              "      <td>0.870308</td>\n",
              "      <td>2.726800</td>\n",
              "      <td>0.934280</td>\n",
              "      <td>4.175332</td>\n",
              "      <td>0.427009</td>\n",
              "      <td>0.233236</td>\n",
              "      <td>0.304743</td>\n",
              "      <td>0.808184</td>\n",
              "      <td>0.114193</td>\n",
              "      <td>-0.000161</td>\n",
              "      <td>3.586130</td>\n",
              "      <td>0.326755</td>\n",
              "      <td>0.652979</td>\n",
              "      <td>-0.040879</td>\n",
              "      <td>0.786409</td>\n",
              "      <td>0.189180</td>\n",
              "      <td>0.187781</td>\n",
              "      <td>0.190446</td>\n",
              "      <td>1.002454</td>\n",
              "      <td>0.414730</td>\n",
              "      <td>0.713646</td>\n",
              "      <td>0.440345</td>\n",
              "      <td>0.142884</td>\n",
              "      <td>0.393393</td>\n",
              "      <td>0.456121</td>\n",
              "      <td>0.308815</td>\n",
              "      <td>0.455031</td>\n",
              "      <td>0.217936</td>\n",
              "      <td>1.000000</td>\n",
              "      <td>4.535160</td>\n",
              "    </tr>\n",
              "    <tr>\n",
              "      <th>max</th>\n",
              "      <td>2.132386</td>\n",
              "      <td>22.057729</td>\n",
              "      <td>3.772857</td>\n",
              "      <td>12.114672</td>\n",
              "      <td>11.095089</td>\n",
              "      <td>6.474115</td>\n",
              "      <td>5.802537</td>\n",
              "      <td>20.007208</td>\n",
              "      <td>5.436633</td>\n",
              "      <td>8.737458</td>\n",
              "      <td>12.018913</td>\n",
              "      <td>2.152055</td>\n",
              "      <td>2.815440</td>\n",
              "      <td>3.442422</td>\n",
              "      <td>2.471358</td>\n",
              "      <td>3.139656</td>\n",
              "      <td>6.739384</td>\n",
              "      <td>3.790316</td>\n",
              "      <td>5.228342</td>\n",
              "      <td>11.059004</td>\n",
              "      <td>27.202839</td>\n",
              "      <td>8.361985</td>\n",
              "      <td>5.466230</td>\n",
              "      <td>1.215279</td>\n",
              "      <td>2.208209</td>\n",
              "      <td>3.065576</td>\n",
              "      <td>3.052358</td>\n",
              "      <td>1.779364</td>\n",
              "      <td>1.000000</td>\n",
              "      <td>8.250108</td>\n",
              "    </tr>\n",
              "  </tbody>\n",
              "</table>\n",
              "</div>"
            ],
            "text/plain": [
              "               V1          V2          V3  ...         V28       Class  Log Amount\n",
              "count  984.000000  984.000000  984.000000  ...  984.000000  984.000000  984.000000\n",
              "mean    -2.467403    1.905304   -3.083884  ...    0.027865    0.500000    2.493201\n",
              "std      5.407122    3.596109    6.435905  ...    0.442955    0.500254    2.658696\n",
              "min    -30.552380  -12.114213  -31.103685  ...   -2.733887    0.000000   -6.907755\n",
              "25%     -2.788129    0.085200   -5.084967  ...   -0.049952    0.000000    0.582774\n",
              "50%     -0.781327    0.954502   -0.309446  ...    0.037457    0.500000    2.767010\n",
              "75%      0.870308    2.726800    0.934280  ...    0.217936    1.000000    4.535160\n",
              "max      2.132386   22.057729    3.772857  ...    1.779364    1.000000    8.250108\n",
              "\n",
              "[8 rows x 30 columns]"
            ]
          },
          "metadata": {
            "tags": []
          },
          "execution_count": 433
        }
      ]
    },
    {
      "cell_type": "code",
      "metadata": {
        "id": "frBETWvj_NMh",
        "outputId": "9edf8b5f-f021-4dd5-a857-b2226d6d1ea2",
        "colab": {
          "base_uri": "https://localhost:8080/"
        }
      },
      "source": [
        "neg_under, pos_under = np.bincount(under_df['Class'])\n",
        "total_under = neg_under + pos_under\n",
        "print('Examples:\\n  Total: {}\\n  Negative: {} ({:.2f}% of total)\\n  Positive: {} ({:.2f}% of total)\\n'.format(\n",
        "    total_under, neg, 100 * neg_under / total_under, pos_under, 100 * pos_under / total_under))"
      ],
      "execution_count": null,
      "outputs": [
        {
          "output_type": "stream",
          "text": [
            "Examples:\n",
            "  Total: 984\n",
            "  Negative: 284315 (50.00% of total)\n",
            "  Positive: 492 (50.00% of total)\n",
            "\n"
          ],
          "name": "stdout"
        }
      ]
    },
    {
      "cell_type": "markdown",
      "metadata": {
        "id": "p1P04P_F60lP"
      },
      "source": [
        "Now we have a subset with 984 samples."
      ]
    },
    {
      "cell_type": "code",
      "metadata": {
        "id": "pds8bPgK60cN"
      },
      "source": [
        "train_under_df, test_under_df = train_test_split(under_df, test_size=0.2)\n",
        "train_under_df, val_under_df = train_test_split(train_under_df, test_size=0.2)\n",
        "\n",
        "train_under_labels = np.array(train_under_df.pop('Class'))\n",
        "bool_train_under_labels = train_under_labels != 0\n",
        "val_under_labels = np.array(val_under_df.pop('Class'))\n",
        "test_under_labels = np.array(test_under_df.pop('Class'))\n",
        "\n",
        "train_under_features = np.array(train_under_df)\n",
        "val_under_features = np.array(val_under_df)\n",
        "test_under_features = np.array(test_under_df)"
      ],
      "execution_count": null,
      "outputs": []
    },
    {
      "cell_type": "code",
      "metadata": {
        "id": "KbCiVj7h7Fbu",
        "outputId": "c8cfd64b-fcb6-43a6-a30c-a1411a8b5043",
        "colab": {
          "base_uri": "https://localhost:8080/"
        }
      },
      "source": [
        "neg_under_train, pos_under_train = np.bincount(train_under_labels)\n",
        "total_under_train = neg_under_train + pos_under_train\n",
        "\n",
        "neg_under_val, pos_under_val = np.bincount(val_under_labels)\n",
        "total_under_val = neg_under_val + pos_under_val\n",
        "\n",
        "neg_under_test, pos_under_test = np.bincount(test_under_labels)\n",
        "total_under_test = neg_under_test + pos_under_test\n",
        "\n",
        "print('Train:\\n  Total: {}\\n  Negative: {} ({:.2f}% of total)\\n  Positive: {} ({:.2f}% of total)\\n'.format(\n",
        "    total_under_train, neg_under_train, 100 * neg_under_train / total_under_train,\n",
        "    pos_under_train, 100 * pos_under_train / total_under_train))\n",
        "\n",
        "print('Validation:\\n  Total: {}\\n  Negative: {} ({:.2f}% of total)\\n  Positive: {} ({:.2f}% of total)\\n'.format(\n",
        "    total_under_val, neg_under_val, 100 * neg_under_val / total_under_val, \n",
        "    pos_under_val, 100 * pos_under_val / total_under_val))\n",
        "\n",
        "print('Test:\\n  Total: {}\\n  Negative: {} ({:.2f}% of total)\\n  Positive: {} ({:.2f}% of total)\\n'.format(\n",
        "    total_under_val, neg_under_test, 100 * neg_under_test / total_under_test, \n",
        "    pos_under_test, 100 * pos_under_test / total_under_test))"
      ],
      "execution_count": null,
      "outputs": [
        {
          "output_type": "stream",
          "text": [
            "Train:\n",
            "  Total: 629\n",
            "  Negative: 316 (50.24% of total)\n",
            "  Positive: 313 (49.76% of total)\n",
            "\n",
            "Validation:\n",
            "  Total: 158\n",
            "  Negative: 76 (48.10% of total)\n",
            "  Positive: 82 (51.90% of total)\n",
            "\n",
            "Test:\n",
            "  Total: 158\n",
            "  Negative: 100 (50.76% of total)\n",
            "  Positive: 97 (49.24% of total)\n",
            "\n"
          ],
          "name": "stdout"
        }
      ]
    },
    {
      "cell_type": "markdown",
      "metadata": {
        "id": "76WWQKQR_o3u"
      },
      "source": [
        "Let's do the standard scale again."
      ]
    },
    {
      "cell_type": "code",
      "metadata": {
        "id": "sfgb1CL6_j1b",
        "outputId": "46a7d853-a216-4113-ec38-d45626ccf38b",
        "colab": {
          "base_uri": "https://localhost:8080/"
        }
      },
      "source": [
        "scaler = StandardScaler()\n",
        "train_under_features = scaler.fit_transform(train_under_features)\n",
        "\n",
        "val_under_features = scaler.transform(val_under_features)\n",
        "test_under_features = scaler.transform(test_under_features)\n",
        "\n",
        "#The np.clip helps setting all the features to be in the range [-5,5] (values \n",
        "#lower than -5 and higher than 5 are set to -5 and 5, respectively)\n",
        "\n",
        "train_under_features = np.clip(train_under_features, -5, 5)\n",
        "val_under_features = np.clip(val_under_features, -5, 5)\n",
        "test_under_features = np.clip(test_under_features, -5, 5)\n",
        "\n",
        "\n",
        "print('Training labels shape:', train_under_labels.shape)\n",
        "print('Validation labels shape:', val_under_labels.shape)\n",
        "print('Test labels shape:', test_under_labels.shape)\n",
        "\n",
        "print('Training features shape:', train_under_features.shape)\n",
        "print('Validation features shape:', val_under_features.shape)\n",
        "print('Test features shape:', test_under_features.shape)"
      ],
      "execution_count": null,
      "outputs": [
        {
          "output_type": "stream",
          "text": [
            "Training labels shape: (629,)\n",
            "Validation labels shape: (158,)\n",
            "Test labels shape: (197,)\n",
            "Training features shape: (629, 29)\n",
            "Validation features shape: (158, 29)\n",
            "Test features shape: (197, 29)\n"
          ],
          "name": "stdout"
        }
      ]
    },
    {
      "cell_type": "markdown",
      "metadata": {
        "id": "lb3SPRf18fzA"
      },
      "source": [
        "### Train a model with random under-sampling\n",
        "\n",
        "As now the two classes are balanced, there we can initialize the model with the default bias. Let's test run it:"
      ]
    },
    {
      "cell_type": "code",
      "metadata": {
        "id": "fAl4Tvf98fOS",
        "outputId": "b84da004-067d-43a8-db6b-967c7f4b3433",
        "colab": {
          "base_uri": "https://localhost:8080/"
        }
      },
      "source": [
        "under_model = make_model()\n",
        "\n",
        "train_under_labels[:10]"
      ],
      "execution_count": null,
      "outputs": [
        {
          "output_type": "execute_result",
          "data": {
            "text/plain": [
              "array([1, 0, 1, 1, 0, 1, 1, 0, 0, 0])"
            ]
          },
          "metadata": {
            "tags": []
          },
          "execution_count": 438
        }
      ]
    },
    {
      "cell_type": "code",
      "metadata": {
        "id": "UYJ3jkAfKmq1",
        "outputId": "ea5f65ac-417a-4a56-b185-6850ff9d8c6f",
        "colab": {
          "base_uri": "https://localhost:8080/"
        }
      },
      "source": [
        "under_model.predict(train_under_features[:10])"
      ],
      "execution_count": null,
      "outputs": [
        {
          "output_type": "execute_result",
          "data": {
            "text/plain": [
              "array([[0.69854575],\n",
              "       [0.48708302],\n",
              "       [0.60970306],\n",
              "       [0.69120026],\n",
              "       [0.53317857],\n",
              "       [0.83703685],\n",
              "       [0.501963  ],\n",
              "       [0.4557706 ],\n",
              "       [0.5360644 ],\n",
              "       [0.6739315 ]], dtype=float32)"
            ]
          },
          "metadata": {
            "tags": []
          },
          "execution_count": 439
        }
      ]
    },
    {
      "cell_type": "code",
      "metadata": {
        "id": "Yl8oVD4uBwVO",
        "outputId": "16ebac6a-b961-449c-b130-bab6bbb731d3",
        "colab": {
          "base_uri": "https://localhost:8080/"
        }
      },
      "source": [
        "(under_model.predict(train_under_features[:10]) > 0.5).astype(\"int32\")"
      ],
      "execution_count": null,
      "outputs": [
        {
          "output_type": "execute_result",
          "data": {
            "text/plain": [
              "array([[1],\n",
              "       [0],\n",
              "       [1],\n",
              "       [1],\n",
              "       [1],\n",
              "       [1],\n",
              "       [1],\n",
              "       [0],\n",
              "       [1],\n",
              "       [1]], dtype=int32)"
            ]
          },
          "metadata": {
            "tags": []
          },
          "execution_count": 440
        }
      ]
    },
    {
      "cell_type": "markdown",
      "metadata": {
        "id": "UfMNRDVnLXQ6"
      },
      "source": [
        "This is what is expected for the initial guesses, as now the dataset is balanced."
      ]
    },
    {
      "cell_type": "code",
      "metadata": {
        "id": "3SpecARkDpBD",
        "outputId": "2451b96e-a455-45b8-a839-dae2ea8085d2",
        "colab": {
          "base_uri": "https://localhost:8080/"
        }
      },
      "source": [
        "#Now we don't need to use a huge batch size as the classes are balanced\n",
        "BATCH_SIZE = 32\n",
        "\n",
        "results = under_model.evaluate(train_under_features, train_under_labels, batch_size=BATCH_SIZE, verbose=0)\n",
        "print(\"Loss: {:0.4f}\".format(results[0]))"
      ],
      "execution_count": null,
      "outputs": [
        {
          "output_type": "stream",
          "text": [
            "Loss: 0.6363\n"
          ],
          "name": "stdout"
        }
      ]
    },
    {
      "cell_type": "markdown",
      "metadata": {
        "id": "rVI2w-n7LkON"
      },
      "source": [
        "The initial loss is around the expected value of $ln(2) = 0.6931$."
      ]
    },
    {
      "cell_type": "code",
      "metadata": {
        "id": "pDQCpCq2AmR0",
        "outputId": "7a75433e-58e3-43cc-89f8-4f1eb126d4f2",
        "colab": {
          "base_uri": "https://localhost:8080/"
        }
      },
      "source": [
        "under_history = under_model.fit(\n",
        "    train_under_features,\n",
        "    train_under_labels,    \n",
        "    batch_size=BATCH_SIZE, \n",
        "    epochs=EPOCHS,\n",
        "    callbacks = [early_stopping],\n",
        "    validation_data=(val_under_features, val_under_labels)\n",
        "    ) "
      ],
      "execution_count": null,
      "outputs": [
        {
          "output_type": "stream",
          "text": [
            "Epoch 1/100\n",
            "20/20 [==============================] - 0s 4ms/step - loss: 0.6890 - tp: 229.0000 - fp: 156.0000 - tn: 160.0000 - fn: 84.0000 - accuracy: 0.6184 - precision: 0.5948 - recall: 0.7316 - auc: 0.6975 - val_loss: 0.5350 - val_tp: 59.0000 - val_fp: 21.0000 - val_tn: 55.0000 - val_fn: 23.0000 - val_accuracy: 0.7215 - val_precision: 0.7375 - val_recall: 0.7195 - val_auc: 0.8092\n",
            "Epoch 2/100\n",
            "20/20 [==============================] - 0s 3ms/step - loss: 0.5787 - tp: 234.0000 - fp: 111.0000 - tn: 205.0000 - fn: 79.0000 - accuracy: 0.6979 - precision: 0.6783 - recall: 0.7476 - auc: 0.7823 - val_loss: 0.4608 - val_tp: 59.0000 - val_fp: 4.0000 - val_tn: 72.0000 - val_fn: 23.0000 - val_accuracy: 0.8291 - val_precision: 0.9365 - val_recall: 0.7195 - val_auc: 0.8476\n",
            "Epoch 3/100\n",
            "20/20 [==============================] - 0s 3ms/step - loss: 0.4862 - tp: 243.0000 - fp: 76.0000 - tn: 240.0000 - fn: 70.0000 - accuracy: 0.7679 - precision: 0.7618 - recall: 0.7764 - auc: 0.8445 - val_loss: 0.4187 - val_tp: 60.0000 - val_fp: 0.0000e+00 - val_tn: 76.0000 - val_fn: 22.0000 - val_accuracy: 0.8608 - val_precision: 1.0000 - val_recall: 0.7317 - val_auc: 0.8710\n",
            "Epoch 4/100\n",
            "20/20 [==============================] - 0s 3ms/step - loss: 0.4631 - tp: 247.0000 - fp: 60.0000 - tn: 256.0000 - fn: 66.0000 - accuracy: 0.7997 - precision: 0.8046 - recall: 0.7891 - auc: 0.8701 - val_loss: 0.3902 - val_tp: 62.0000 - val_fp: 0.0000e+00 - val_tn: 76.0000 - val_fn: 20.0000 - val_accuracy: 0.8734 - val_precision: 1.0000 - val_recall: 0.7561 - val_auc: 0.8841\n",
            "Epoch 5/100\n",
            "20/20 [==============================] - 0s 3ms/step - loss: 0.4176 - tp: 252.0000 - fp: 47.0000 - tn: 269.0000 - fn: 61.0000 - accuracy: 0.8283 - precision: 0.8428 - recall: 0.8051 - auc: 0.8902 - val_loss: 0.3709 - val_tp: 62.0000 - val_fp: 0.0000e+00 - val_tn: 76.0000 - val_fn: 20.0000 - val_accuracy: 0.8734 - val_precision: 1.0000 - val_recall: 0.7561 - val_auc: 0.8940\n",
            "Epoch 6/100\n",
            "20/20 [==============================] - 0s 3ms/step - loss: 0.3878 - tp: 249.0000 - fp: 31.0000 - tn: 285.0000 - fn: 64.0000 - accuracy: 0.8490 - precision: 0.8893 - recall: 0.7955 - auc: 0.9038 - val_loss: 0.3542 - val_tp: 63.0000 - val_fp: 0.0000e+00 - val_tn: 76.0000 - val_fn: 19.0000 - val_accuracy: 0.8797 - val_precision: 1.0000 - val_recall: 0.7683 - val_auc: 0.9024\n",
            "Epoch 7/100\n",
            "20/20 [==============================] - 0s 3ms/step - loss: 0.3590 - tp: 260.0000 - fp: 28.0000 - tn: 288.0000 - fn: 53.0000 - accuracy: 0.8712 - precision: 0.9028 - recall: 0.8307 - auc: 0.9188 - val_loss: 0.3405 - val_tp: 64.0000 - val_fp: 0.0000e+00 - val_tn: 76.0000 - val_fn: 18.0000 - val_accuracy: 0.8861 - val_precision: 1.0000 - val_recall: 0.7805 - val_auc: 0.9113\n",
            "Epoch 8/100\n",
            "20/20 [==============================] - 0s 3ms/step - loss: 0.3398 - tp: 261.0000 - fp: 28.0000 - tn: 288.0000 - fn: 52.0000 - accuracy: 0.8728 - precision: 0.9031 - recall: 0.8339 - auc: 0.9281 - val_loss: 0.3277 - val_tp: 64.0000 - val_fp: 0.0000e+00 - val_tn: 76.0000 - val_fn: 18.0000 - val_accuracy: 0.8861 - val_precision: 1.0000 - val_recall: 0.7805 - val_auc: 0.9192\n",
            "Epoch 9/100\n",
            "20/20 [==============================] - 0s 3ms/step - loss: 0.3686 - tp: 254.0000 - fp: 31.0000 - tn: 285.0000 - fn: 59.0000 - accuracy: 0.8569 - precision: 0.8912 - recall: 0.8115 - auc: 0.9109 - val_loss: 0.3136 - val_tp: 64.0000 - val_fp: 0.0000e+00 - val_tn: 76.0000 - val_fn: 18.0000 - val_accuracy: 0.8861 - val_precision: 1.0000 - val_recall: 0.7805 - val_auc: 0.9288\n",
            "Epoch 10/100\n",
            "20/20 [==============================] - 0s 3ms/step - loss: 0.3264 - tp: 260.0000 - fp: 29.0000 - tn: 287.0000 - fn: 53.0000 - accuracy: 0.8696 - precision: 0.8997 - recall: 0.8307 - auc: 0.9288 - val_loss: 0.3036 - val_tp: 65.0000 - val_fp: 0.0000e+00 - val_tn: 76.0000 - val_fn: 17.0000 - val_accuracy: 0.8924 - val_precision: 1.0000 - val_recall: 0.7927 - val_auc: 0.9349\n",
            "Epoch 11/100\n",
            "20/20 [==============================] - 0s 3ms/step - loss: 0.3062 - tp: 265.0000 - fp: 27.0000 - tn: 289.0000 - fn: 48.0000 - accuracy: 0.8808 - precision: 0.9075 - recall: 0.8466 - auc: 0.9402 - val_loss: 0.2931 - val_tp: 65.0000 - val_fp: 0.0000e+00 - val_tn: 76.0000 - val_fn: 17.0000 - val_accuracy: 0.8924 - val_precision: 1.0000 - val_recall: 0.7927 - val_auc: 0.9377\n",
            "Epoch 12/100\n",
            "20/20 [==============================] - 0s 3ms/step - loss: 0.3154 - tp: 262.0000 - fp: 23.0000 - tn: 293.0000 - fn: 51.0000 - accuracy: 0.8824 - precision: 0.9193 - recall: 0.8371 - auc: 0.9337 - val_loss: 0.2852 - val_tp: 65.0000 - val_fp: 0.0000e+00 - val_tn: 76.0000 - val_fn: 17.0000 - val_accuracy: 0.8924 - val_precision: 1.0000 - val_recall: 0.7927 - val_auc: 0.9418\n",
            "Epoch 13/100\n",
            "20/20 [==============================] - 0s 3ms/step - loss: 0.3108 - tp: 257.0000 - fp: 25.0000 - tn: 291.0000 - fn: 56.0000 - accuracy: 0.8712 - precision: 0.9113 - recall: 0.8211 - auc: 0.9339 - val_loss: 0.2777 - val_tp: 66.0000 - val_fp: 1.0000 - val_tn: 75.0000 - val_fn: 16.0000 - val_accuracy: 0.8924 - val_precision: 0.9851 - val_recall: 0.8049 - val_auc: 0.9446\n",
            "Epoch 14/100\n",
            "20/20 [==============================] - 0s 3ms/step - loss: 0.2708 - tp: 269.0000 - fp: 13.0000 - tn: 303.0000 - fn: 44.0000 - accuracy: 0.9094 - precision: 0.9539 - recall: 0.8594 - auc: 0.9540 - val_loss: 0.2725 - val_tp: 66.0000 - val_fp: 1.0000 - val_tn: 75.0000 - val_fn: 16.0000 - val_accuracy: 0.8924 - val_precision: 0.9851 - val_recall: 0.8049 - val_auc: 0.9476\n",
            "Epoch 15/100\n",
            "20/20 [==============================] - 0s 3ms/step - loss: 0.2856 - tp: 264.0000 - fp: 18.0000 - tn: 298.0000 - fn: 49.0000 - accuracy: 0.8935 - precision: 0.9362 - recall: 0.8435 - auc: 0.9458 - val_loss: 0.2666 - val_tp: 66.0000 - val_fp: 1.0000 - val_tn: 75.0000 - val_fn: 16.0000 - val_accuracy: 0.8924 - val_precision: 0.9851 - val_recall: 0.8049 - val_auc: 0.9499\n",
            "Epoch 16/100\n",
            "20/20 [==============================] - 0s 3ms/step - loss: 0.2672 - tp: 267.0000 - fp: 10.0000 - tn: 306.0000 - fn: 46.0000 - accuracy: 0.9110 - precision: 0.9639 - recall: 0.8530 - auc: 0.9528 - val_loss: 0.2595 - val_tp: 67.0000 - val_fp: 1.0000 - val_tn: 75.0000 - val_fn: 15.0000 - val_accuracy: 0.8987 - val_precision: 0.9853 - val_recall: 0.8171 - val_auc: 0.9520\n",
            "Epoch 17/100\n",
            "20/20 [==============================] - 0s 3ms/step - loss: 0.2798 - tp: 272.0000 - fp: 25.0000 - tn: 291.0000 - fn: 41.0000 - accuracy: 0.8951 - precision: 0.9158 - recall: 0.8690 - auc: 0.9477 - val_loss: 0.2545 - val_tp: 68.0000 - val_fp: 1.0000 - val_tn: 75.0000 - val_fn: 14.0000 - val_accuracy: 0.9051 - val_precision: 0.9855 - val_recall: 0.8293 - val_auc: 0.9535\n",
            "Epoch 18/100\n",
            "20/20 [==============================] - 0s 3ms/step - loss: 0.2471 - tp: 276.0000 - fp: 17.0000 - tn: 299.0000 - fn: 37.0000 - accuracy: 0.9141 - precision: 0.9420 - recall: 0.8818 - auc: 0.9607 - val_loss: 0.2524 - val_tp: 68.0000 - val_fp: 1.0000 - val_tn: 75.0000 - val_fn: 14.0000 - val_accuracy: 0.9051 - val_precision: 0.9855 - val_recall: 0.8293 - val_auc: 0.9541\n",
            "Epoch 19/100\n",
            "20/20 [==============================] - 0s 3ms/step - loss: 0.2661 - tp: 274.0000 - fp: 23.0000 - tn: 293.0000 - fn: 39.0000 - accuracy: 0.9014 - precision: 0.9226 - recall: 0.8754 - auc: 0.9529 - val_loss: 0.2514 - val_tp: 68.0000 - val_fp: 1.0000 - val_tn: 75.0000 - val_fn: 14.0000 - val_accuracy: 0.9051 - val_precision: 0.9855 - val_recall: 0.8293 - val_auc: 0.9538\n",
            "Epoch 20/100\n",
            "20/20 [==============================] - 0s 3ms/step - loss: 0.2661 - tp: 266.0000 - fp: 19.0000 - tn: 297.0000 - fn: 47.0000 - accuracy: 0.8951 - precision: 0.9333 - recall: 0.8498 - auc: 0.9531 - val_loss: 0.2449 - val_tp: 68.0000 - val_fp: 1.0000 - val_tn: 75.0000 - val_fn: 14.0000 - val_accuracy: 0.9051 - val_precision: 0.9855 - val_recall: 0.8293 - val_auc: 0.9539\n",
            "Epoch 21/100\n",
            "20/20 [==============================] - 0s 3ms/step - loss: 0.2406 - tp: 272.0000 - fp: 17.0000 - tn: 299.0000 - fn: 41.0000 - accuracy: 0.9078 - precision: 0.9412 - recall: 0.8690 - auc: 0.9626 - val_loss: 0.2404 - val_tp: 68.0000 - val_fp: 1.0000 - val_tn: 75.0000 - val_fn: 14.0000 - val_accuracy: 0.9051 - val_precision: 0.9855 - val_recall: 0.8293 - val_auc: 0.9541\n",
            "Epoch 22/100\n",
            "20/20 [==============================] - 0s 3ms/step - loss: 0.2564 - tp: 275.0000 - fp: 21.0000 - tn: 295.0000 - fn: 38.0000 - accuracy: 0.9062 - precision: 0.9291 - recall: 0.8786 - auc: 0.9543 - val_loss: 0.2370 - val_tp: 68.0000 - val_fp: 1.0000 - val_tn: 75.0000 - val_fn: 14.0000 - val_accuracy: 0.9051 - val_precision: 0.9855 - val_recall: 0.8293 - val_auc: 0.9560\n",
            "Epoch 23/100\n",
            "20/20 [==============================] - 0s 3ms/step - loss: 0.2547 - tp: 275.0000 - fp: 19.0000 - tn: 297.0000 - fn: 38.0000 - accuracy: 0.9094 - precision: 0.9354 - recall: 0.8786 - auc: 0.9533 - val_loss: 0.2350 - val_tp: 68.0000 - val_fp: 1.0000 - val_tn: 75.0000 - val_fn: 14.0000 - val_accuracy: 0.9051 - val_precision: 0.9855 - val_recall: 0.8293 - val_auc: 0.9570\n",
            "Epoch 24/100\n",
            "20/20 [==============================] - 0s 3ms/step - loss: 0.2528 - tp: 272.0000 - fp: 16.0000 - tn: 300.0000 - fn: 41.0000 - accuracy: 0.9094 - precision: 0.9444 - recall: 0.8690 - auc: 0.9565 - val_loss: 0.2320 - val_tp: 68.0000 - val_fp: 1.0000 - val_tn: 75.0000 - val_fn: 14.0000 - val_accuracy: 0.9051 - val_precision: 0.9855 - val_recall: 0.8293 - val_auc: 0.9592\n",
            "Epoch 25/100\n",
            "20/20 [==============================] - 0s 3ms/step - loss: 0.2707 - tp: 272.0000 - fp: 20.0000 - tn: 296.0000 - fn: 41.0000 - accuracy: 0.9030 - precision: 0.9315 - recall: 0.8690 - auc: 0.9469 - val_loss: 0.2292 - val_tp: 68.0000 - val_fp: 1.0000 - val_tn: 75.0000 - val_fn: 14.0000 - val_accuracy: 0.9051 - val_precision: 0.9855 - val_recall: 0.8293 - val_auc: 0.9608\n",
            "Epoch 26/100\n",
            "20/20 [==============================] - 0s 3ms/step - loss: 0.2245 - tp: 279.0000 - fp: 22.0000 - tn: 294.0000 - fn: 34.0000 - accuracy: 0.9110 - precision: 0.9269 - recall: 0.8914 - auc: 0.9688 - val_loss: 0.2280 - val_tp: 68.0000 - val_fp: 1.0000 - val_tn: 75.0000 - val_fn: 14.0000 - val_accuracy: 0.9051 - val_precision: 0.9855 - val_recall: 0.8293 - val_auc: 0.9618\n",
            "Epoch 27/100\n",
            "20/20 [==============================] - 0s 3ms/step - loss: 0.2362 - tp: 279.0000 - fp: 15.0000 - tn: 301.0000 - fn: 34.0000 - accuracy: 0.9221 - precision: 0.9490 - recall: 0.8914 - auc: 0.9620 - val_loss: 0.2260 - val_tp: 68.0000 - val_fp: 1.0000 - val_tn: 75.0000 - val_fn: 14.0000 - val_accuracy: 0.9051 - val_precision: 0.9855 - val_recall: 0.8293 - val_auc: 0.9637\n",
            "Epoch 28/100\n",
            "20/20 [==============================] - 0s 3ms/step - loss: 0.2062 - tp: 279.0000 - fp: 12.0000 - tn: 304.0000 - fn: 34.0000 - accuracy: 0.9269 - precision: 0.9588 - recall: 0.8914 - auc: 0.9723 - val_loss: 0.2256 - val_tp: 68.0000 - val_fp: 1.0000 - val_tn: 75.0000 - val_fn: 14.0000 - val_accuracy: 0.9051 - val_precision: 0.9855 - val_recall: 0.8293 - val_auc: 0.9645\n",
            "Epoch 29/100\n",
            "20/20 [==============================] - 0s 3ms/step - loss: 0.2291 - tp: 281.0000 - fp: 12.0000 - tn: 304.0000 - fn: 32.0000 - accuracy: 0.9300 - precision: 0.9590 - recall: 0.8978 - auc: 0.9658 - val_loss: 0.2230 - val_tp: 68.0000 - val_fp: 1.0000 - val_tn: 75.0000 - val_fn: 14.0000 - val_accuracy: 0.9051 - val_precision: 0.9855 - val_recall: 0.8293 - val_auc: 0.9651\n",
            "Epoch 30/100\n",
            "20/20 [==============================] - 0s 3ms/step - loss: 0.2070 - tp: 276.0000 - fp: 8.0000 - tn: 308.0000 - fn: 37.0000 - accuracy: 0.9285 - precision: 0.9718 - recall: 0.8818 - auc: 0.9724 - val_loss: 0.2203 - val_tp: 69.0000 - val_fp: 1.0000 - val_tn: 75.0000 - val_fn: 13.0000 - val_accuracy: 0.9114 - val_precision: 0.9857 - val_recall: 0.8415 - val_auc: 0.9666\n",
            "Epoch 31/100\n",
            "20/20 [==============================] - 0s 3ms/step - loss: 0.2162 - tp: 286.0000 - fp: 11.0000 - tn: 305.0000 - fn: 27.0000 - accuracy: 0.9396 - precision: 0.9630 - recall: 0.9137 - auc: 0.9669 - val_loss: 0.2183 - val_tp: 70.0000 - val_fp: 1.0000 - val_tn: 75.0000 - val_fn: 12.0000 - val_accuracy: 0.9177 - val_precision: 0.9859 - val_recall: 0.8537 - val_auc: 0.9673\n",
            "Epoch 32/100\n",
            "20/20 [==============================] - 0s 3ms/step - loss: 0.1980 - tp: 282.0000 - fp: 9.0000 - tn: 307.0000 - fn: 31.0000 - accuracy: 0.9364 - precision: 0.9691 - recall: 0.9010 - auc: 0.9745 - val_loss: 0.2167 - val_tp: 70.0000 - val_fp: 1.0000 - val_tn: 75.0000 - val_fn: 12.0000 - val_accuracy: 0.9177 - val_precision: 0.9859 - val_recall: 0.8537 - val_auc: 0.9678\n",
            "Epoch 33/100\n",
            "20/20 [==============================] - 0s 3ms/step - loss: 0.2149 - tp: 281.0000 - fp: 7.0000 - tn: 309.0000 - fn: 32.0000 - accuracy: 0.9380 - precision: 0.9757 - recall: 0.8978 - auc: 0.9684 - val_loss: 0.2157 - val_tp: 70.0000 - val_fp: 1.0000 - val_tn: 75.0000 - val_fn: 12.0000 - val_accuracy: 0.9177 - val_precision: 0.9859 - val_recall: 0.8537 - val_auc: 0.9690\n",
            "Epoch 34/100\n",
            "20/20 [==============================] - 0s 3ms/step - loss: 0.2194 - tp: 273.0000 - fp: 15.0000 - tn: 301.0000 - fn: 40.0000 - accuracy: 0.9126 - precision: 0.9479 - recall: 0.8722 - auc: 0.9676 - val_loss: 0.2133 - val_tp: 71.0000 - val_fp: 1.0000 - val_tn: 75.0000 - val_fn: 11.0000 - val_accuracy: 0.9241 - val_precision: 0.9861 - val_recall: 0.8659 - val_auc: 0.9695\n",
            "Epoch 35/100\n",
            "20/20 [==============================] - 0s 3ms/step - loss: 0.2116 - tp: 281.0000 - fp: 8.0000 - tn: 308.0000 - fn: 32.0000 - accuracy: 0.9364 - precision: 0.9723 - recall: 0.8978 - auc: 0.9683 - val_loss: 0.2119 - val_tp: 71.0000 - val_fp: 1.0000 - val_tn: 75.0000 - val_fn: 11.0000 - val_accuracy: 0.9241 - val_precision: 0.9861 - val_recall: 0.8659 - val_auc: 0.9696\n",
            "Epoch 36/100\n",
            "20/20 [==============================] - 0s 3ms/step - loss: 0.1963 - tp: 285.0000 - fp: 11.0000 - tn: 305.0000 - fn: 28.0000 - accuracy: 0.9380 - precision: 0.9628 - recall: 0.9105 - auc: 0.9738 - val_loss: 0.2116 - val_tp: 71.0000 - val_fp: 1.0000 - val_tn: 75.0000 - val_fn: 11.0000 - val_accuracy: 0.9241 - val_precision: 0.9861 - val_recall: 0.8659 - val_auc: 0.9698\n",
            "Epoch 37/100\n",
            "20/20 [==============================] - 0s 3ms/step - loss: 0.2243 - tp: 279.0000 - fp: 18.0000 - tn: 298.0000 - fn: 34.0000 - accuracy: 0.9173 - precision: 0.9394 - recall: 0.8914 - auc: 0.9649 - val_loss: 0.2076 - val_tp: 71.0000 - val_fp: 1.0000 - val_tn: 75.0000 - val_fn: 11.0000 - val_accuracy: 0.9241 - val_precision: 0.9861 - val_recall: 0.8659 - val_auc: 0.9709\n",
            "Epoch 38/100\n",
            "20/20 [==============================] - 0s 3ms/step - loss: 0.2135 - tp: 281.0000 - fp: 17.0000 - tn: 299.0000 - fn: 32.0000 - accuracy: 0.9221 - precision: 0.9430 - recall: 0.8978 - auc: 0.9687 - val_loss: 0.2066 - val_tp: 71.0000 - val_fp: 1.0000 - val_tn: 75.0000 - val_fn: 11.0000 - val_accuracy: 0.9241 - val_precision: 0.9861 - val_recall: 0.8659 - val_auc: 0.9718\n",
            "Epoch 39/100\n",
            "20/20 [==============================] - 0s 3ms/step - loss: 0.2079 - tp: 279.0000 - fp: 14.0000 - tn: 302.0000 - fn: 34.0000 - accuracy: 0.9237 - precision: 0.9522 - recall: 0.8914 - auc: 0.9704 - val_loss: 0.2053 - val_tp: 71.0000 - val_fp: 1.0000 - val_tn: 75.0000 - val_fn: 11.0000 - val_accuracy: 0.9241 - val_precision: 0.9861 - val_recall: 0.8659 - val_auc: 0.9730\n",
            "Epoch 40/100\n",
            "20/20 [==============================] - 0s 3ms/step - loss: 0.2193 - tp: 282.0000 - fp: 19.0000 - tn: 297.0000 - fn: 31.0000 - accuracy: 0.9205 - precision: 0.9369 - recall: 0.9010 - auc: 0.9681 - val_loss: 0.2025 - val_tp: 71.0000 - val_fp: 1.0000 - val_tn: 75.0000 - val_fn: 11.0000 - val_accuracy: 0.9241 - val_precision: 0.9861 - val_recall: 0.8659 - val_auc: 0.9727\n",
            "Epoch 41/100\n",
            "20/20 [==============================] - 0s 3ms/step - loss: 0.1969 - tp: 286.0000 - fp: 15.0000 - tn: 301.0000 - fn: 27.0000 - accuracy: 0.9332 - precision: 0.9502 - recall: 0.9137 - auc: 0.9731 - val_loss: 0.2019 - val_tp: 71.0000 - val_fp: 1.0000 - val_tn: 75.0000 - val_fn: 11.0000 - val_accuracy: 0.9241 - val_precision: 0.9861 - val_recall: 0.8659 - val_auc: 0.9734\n",
            "Epoch 42/100\n",
            "20/20 [==============================] - 0s 3ms/step - loss: 0.1994 - tp: 284.0000 - fp: 14.0000 - tn: 302.0000 - fn: 29.0000 - accuracy: 0.9316 - precision: 0.9530 - recall: 0.9073 - auc: 0.9709 - val_loss: 0.2004 - val_tp: 71.0000 - val_fp: 1.0000 - val_tn: 75.0000 - val_fn: 11.0000 - val_accuracy: 0.9241 - val_precision: 0.9861 - val_recall: 0.8659 - val_auc: 0.9732\n",
            "Epoch 43/100\n",
            "20/20 [==============================] - 0s 3ms/step - loss: 0.2077 - tp: 278.0000 - fp: 16.0000 - tn: 300.0000 - fn: 35.0000 - accuracy: 0.9189 - precision: 0.9456 - recall: 0.8882 - auc: 0.9726 - val_loss: 0.1994 - val_tp: 71.0000 - val_fp: 1.0000 - val_tn: 75.0000 - val_fn: 11.0000 - val_accuracy: 0.9241 - val_precision: 0.9861 - val_recall: 0.8659 - val_auc: 0.9735\n",
            "Epoch 44/100\n",
            "20/20 [==============================] - 0s 3ms/step - loss: 0.2105 - tp: 285.0000 - fp: 9.0000 - tn: 307.0000 - fn: 28.0000 - accuracy: 0.9412 - precision: 0.9694 - recall: 0.9105 - auc: 0.9680 - val_loss: 0.2008 - val_tp: 71.0000 - val_fp: 1.0000 - val_tn: 75.0000 - val_fn: 11.0000 - val_accuracy: 0.9241 - val_precision: 0.9861 - val_recall: 0.8659 - val_auc: 0.9735\n",
            "Epoch 45/100\n",
            "20/20 [==============================] - 0s 3ms/step - loss: 0.1848 - tp: 289.0000 - fp: 10.0000 - tn: 306.0000 - fn: 24.0000 - accuracy: 0.9459 - precision: 0.9666 - recall: 0.9233 - auc: 0.9758 - val_loss: 0.1979 - val_tp: 71.0000 - val_fp: 1.0000 - val_tn: 75.0000 - val_fn: 11.0000 - val_accuracy: 0.9241 - val_precision: 0.9861 - val_recall: 0.8659 - val_auc: 0.9740\n",
            "Epoch 46/100\n",
            "20/20 [==============================] - 0s 3ms/step - loss: 0.2032 - tp: 285.0000 - fp: 18.0000 - tn: 298.0000 - fn: 28.0000 - accuracy: 0.9269 - precision: 0.9406 - recall: 0.9105 - auc: 0.9706 - val_loss: 0.1988 - val_tp: 71.0000 - val_fp: 1.0000 - val_tn: 75.0000 - val_fn: 11.0000 - val_accuracy: 0.9241 - val_precision: 0.9861 - val_recall: 0.8659 - val_auc: 0.9742\n",
            "Epoch 47/100\n",
            "20/20 [==============================] - 0s 3ms/step - loss: 0.1761 - tp: 284.0000 - fp: 8.0000 - tn: 308.0000 - fn: 29.0000 - accuracy: 0.9412 - precision: 0.9726 - recall: 0.9073 - auc: 0.9788 - val_loss: 0.1966 - val_tp: 71.0000 - val_fp: 1.0000 - val_tn: 75.0000 - val_fn: 11.0000 - val_accuracy: 0.9241 - val_precision: 0.9861 - val_recall: 0.8659 - val_auc: 0.9751\n",
            "Epoch 48/100\n",
            "20/20 [==============================] - 0s 3ms/step - loss: 0.1880 - tp: 284.0000 - fp: 13.0000 - tn: 303.0000 - fn: 29.0000 - accuracy: 0.9332 - precision: 0.9562 - recall: 0.9073 - auc: 0.9746 - val_loss: 0.1969 - val_tp: 71.0000 - val_fp: 1.0000 - val_tn: 75.0000 - val_fn: 11.0000 - val_accuracy: 0.9241 - val_precision: 0.9861 - val_recall: 0.8659 - val_auc: 0.9752\n",
            "Epoch 49/100\n",
            "20/20 [==============================] - 0s 3ms/step - loss: 0.1815 - tp: 289.0000 - fp: 18.0000 - tn: 298.0000 - fn: 24.0000 - accuracy: 0.9332 - precision: 0.9414 - recall: 0.9233 - auc: 0.9782 - val_loss: 0.1984 - val_tp: 71.0000 - val_fp: 1.0000 - val_tn: 75.0000 - val_fn: 11.0000 - val_accuracy: 0.9241 - val_precision: 0.9861 - val_recall: 0.8659 - val_auc: 0.9747\n",
            "Epoch 50/100\n",
            "20/20 [==============================] - 0s 3ms/step - loss: 0.1812 - tp: 288.0000 - fp: 11.0000 - tn: 305.0000 - fn: 25.0000 - accuracy: 0.9428 - precision: 0.9632 - recall: 0.9201 - auc: 0.9767 - val_loss: 0.1978 - val_tp: 71.0000 - val_fp: 1.0000 - val_tn: 75.0000 - val_fn: 11.0000 - val_accuracy: 0.9241 - val_precision: 0.9861 - val_recall: 0.8659 - val_auc: 0.9749\n",
            "Epoch 51/100\n",
            "20/20 [==============================] - 0s 3ms/step - loss: 0.1749 - tp: 288.0000 - fp: 13.0000 - tn: 303.0000 - fn: 25.0000 - accuracy: 0.9396 - precision: 0.9568 - recall: 0.9201 - auc: 0.9803 - val_loss: 0.1968 - val_tp: 71.0000 - val_fp: 1.0000 - val_tn: 75.0000 - val_fn: 11.0000 - val_accuracy: 0.9241 - val_precision: 0.9861 - val_recall: 0.8659 - val_auc: 0.9753\n",
            "Epoch 52/100\n",
            "20/20 [==============================] - 0s 3ms/step - loss: 0.1972 - tp: 286.0000 - fp: 17.0000 - tn: 299.0000 - fn: 27.0000 - accuracy: 0.9300 - precision: 0.9439 - recall: 0.9137 - auc: 0.9731 - val_loss: 0.1969 - val_tp: 71.0000 - val_fp: 1.0000 - val_tn: 75.0000 - val_fn: 11.0000 - val_accuracy: 0.9241 - val_precision: 0.9861 - val_recall: 0.8659 - val_auc: 0.9759\n",
            "Epoch 53/100\n",
            "20/20 [==============================] - 0s 3ms/step - loss: 0.1973 - tp: 282.0000 - fp: 15.0000 - tn: 301.0000 - fn: 31.0000 - accuracy: 0.9269 - precision: 0.9495 - recall: 0.9010 - auc: 0.9724 - val_loss: 0.1961 - val_tp: 71.0000 - val_fp: 1.0000 - val_tn: 75.0000 - val_fn: 11.0000 - val_accuracy: 0.9241 - val_precision: 0.9861 - val_recall: 0.8659 - val_auc: 0.9759\n",
            "Epoch 54/100\n",
            "20/20 [==============================] - 0s 3ms/step - loss: 0.1733 - tp: 288.0000 - fp: 11.0000 - tn: 305.0000 - fn: 25.0000 - accuracy: 0.9428 - precision: 0.9632 - recall: 0.9201 - auc: 0.9781 - val_loss: 0.1953 - val_tp: 71.0000 - val_fp: 1.0000 - val_tn: 75.0000 - val_fn: 11.0000 - val_accuracy: 0.9241 - val_precision: 0.9861 - val_recall: 0.8659 - val_auc: 0.9751\n",
            "Epoch 55/100\n",
            "20/20 [==============================] - 0s 3ms/step - loss: 0.1938 - tp: 290.0000 - fp: 12.0000 - tn: 304.0000 - fn: 23.0000 - accuracy: 0.9444 - precision: 0.9603 - recall: 0.9265 - auc: 0.9733 - val_loss: 0.1953 - val_tp: 71.0000 - val_fp: 1.0000 - val_tn: 75.0000 - val_fn: 11.0000 - val_accuracy: 0.9241 - val_precision: 0.9861 - val_recall: 0.8659 - val_auc: 0.9761\n",
            "Epoch 56/100\n",
            "20/20 [==============================] - 0s 3ms/step - loss: 0.1615 - tp: 288.0000 - fp: 13.0000 - tn: 303.0000 - fn: 25.0000 - accuracy: 0.9396 - precision: 0.9568 - recall: 0.9201 - auc: 0.9822 - val_loss: 0.1926 - val_tp: 71.0000 - val_fp: 1.0000 - val_tn: 75.0000 - val_fn: 11.0000 - val_accuracy: 0.9241 - val_precision: 0.9861 - val_recall: 0.8659 - val_auc: 0.9754\n",
            "Epoch 57/100\n",
            "20/20 [==============================] - 0s 3ms/step - loss: 0.1715 - tp: 286.0000 - fp: 10.0000 - tn: 306.0000 - fn: 27.0000 - accuracy: 0.9412 - precision: 0.9662 - recall: 0.9137 - auc: 0.9796 - val_loss: 0.1920 - val_tp: 71.0000 - val_fp: 1.0000 - val_tn: 75.0000 - val_fn: 11.0000 - val_accuracy: 0.9241 - val_precision: 0.9861 - val_recall: 0.8659 - val_auc: 0.9751\n",
            "Epoch 58/100\n",
            "20/20 [==============================] - 0s 3ms/step - loss: 0.1793 - tp: 290.0000 - fp: 7.0000 - tn: 309.0000 - fn: 23.0000 - accuracy: 0.9523 - precision: 0.9764 - recall: 0.9265 - auc: 0.9750 - val_loss: 0.1919 - val_tp: 71.0000 - val_fp: 1.0000 - val_tn: 75.0000 - val_fn: 11.0000 - val_accuracy: 0.9241 - val_precision: 0.9861 - val_recall: 0.8659 - val_auc: 0.9751\n",
            "Epoch 59/100\n",
            "20/20 [==============================] - 0s 3ms/step - loss: 0.1717 - tp: 287.0000 - fp: 16.0000 - tn: 300.0000 - fn: 26.0000 - accuracy: 0.9332 - precision: 0.9472 - recall: 0.9169 - auc: 0.9797 - val_loss: 0.1932 - val_tp: 71.0000 - val_fp: 1.0000 - val_tn: 75.0000 - val_fn: 11.0000 - val_accuracy: 0.9241 - val_precision: 0.9861 - val_recall: 0.8659 - val_auc: 0.9755\n",
            "Epoch 60/100\n",
            "20/20 [==============================] - 0s 3ms/step - loss: 0.1847 - tp: 289.0000 - fp: 9.0000 - tn: 307.0000 - fn: 24.0000 - accuracy: 0.9475 - precision: 0.9698 - recall: 0.9233 - auc: 0.9745 - val_loss: 0.1942 - val_tp: 71.0000 - val_fp: 1.0000 - val_tn: 75.0000 - val_fn: 11.0000 - val_accuracy: 0.9241 - val_precision: 0.9861 - val_recall: 0.8659 - val_auc: 0.9755\n",
            "Epoch 61/100\n",
            "20/20 [==============================] - 0s 3ms/step - loss: 0.1679 - tp: 288.0000 - fp: 7.0000 - tn: 309.0000 - fn: 25.0000 - accuracy: 0.9491 - precision: 0.9763 - recall: 0.9201 - auc: 0.9801 - val_loss: 0.1931 - val_tp: 71.0000 - val_fp: 1.0000 - val_tn: 75.0000 - val_fn: 11.0000 - val_accuracy: 0.9241 - val_precision: 0.9861 - val_recall: 0.8659 - val_auc: 0.9763\n",
            "Epoch 62/100\n",
            "20/20 [==============================] - 0s 3ms/step - loss: 0.1899 - tp: 290.0000 - fp: 11.0000 - tn: 305.0000 - fn: 23.0000 - accuracy: 0.9459 - precision: 0.9635 - recall: 0.9265 - auc: 0.9737 - val_loss: 0.1928 - val_tp: 71.0000 - val_fp: 1.0000 - val_tn: 75.0000 - val_fn: 11.0000 - val_accuracy: 0.9241 - val_precision: 0.9861 - val_recall: 0.8659 - val_auc: 0.9758\n",
            "Epoch 63/100\n",
            "20/20 [==============================] - 0s 3ms/step - loss: 0.1811 - tp: 285.0000 - fp: 11.0000 - tn: 305.0000 - fn: 28.0000 - accuracy: 0.9380 - precision: 0.9628 - recall: 0.9105 - auc: 0.9763 - val_loss: 0.1925 - val_tp: 71.0000 - val_fp: 1.0000 - val_tn: 75.0000 - val_fn: 11.0000 - val_accuracy: 0.9241 - val_precision: 0.9861 - val_recall: 0.8659 - val_auc: 0.9759\n",
            "Epoch 64/100\n",
            "20/20 [==============================] - 0s 4ms/step - loss: 0.1765 - tp: 292.0000 - fp: 8.0000 - tn: 308.0000 - fn: 21.0000 - accuracy: 0.9539 - precision: 0.9733 - recall: 0.9329 - auc: 0.9783 - val_loss: 0.1870 - val_tp: 72.0000 - val_fp: 1.0000 - val_tn: 75.0000 - val_fn: 10.0000 - val_accuracy: 0.9304 - val_precision: 0.9863 - val_recall: 0.8780 - val_auc: 0.9763\n",
            "Epoch 65/100\n",
            "20/20 [==============================] - 0s 3ms/step - loss: 0.1951 - tp: 287.0000 - fp: 16.0000 - tn: 300.0000 - fn: 26.0000 - accuracy: 0.9332 - precision: 0.9472 - recall: 0.9169 - auc: 0.9711 - val_loss: 0.1883 - val_tp: 71.0000 - val_fp: 1.0000 - val_tn: 75.0000 - val_fn: 11.0000 - val_accuracy: 0.9241 - val_precision: 0.9861 - val_recall: 0.8659 - val_auc: 0.9766\n",
            "Epoch 66/100\n",
            "20/20 [==============================] - 0s 3ms/step - loss: 0.1787 - tp: 286.0000 - fp: 17.0000 - tn: 299.0000 - fn: 27.0000 - accuracy: 0.9300 - precision: 0.9439 - recall: 0.9137 - auc: 0.9767 - val_loss: 0.1900 - val_tp: 71.0000 - val_fp: 1.0000 - val_tn: 75.0000 - val_fn: 11.0000 - val_accuracy: 0.9241 - val_precision: 0.9861 - val_recall: 0.8659 - val_auc: 0.9764\n",
            "Epoch 67/100\n",
            "20/20 [==============================] - 0s 3ms/step - loss: 0.1849 - tp: 290.0000 - fp: 13.0000 - tn: 303.0000 - fn: 23.0000 - accuracy: 0.9428 - precision: 0.9571 - recall: 0.9265 - auc: 0.9750 - val_loss: 0.1875 - val_tp: 71.0000 - val_fp: 1.0000 - val_tn: 75.0000 - val_fn: 11.0000 - val_accuracy: 0.9241 - val_precision: 0.9861 - val_recall: 0.8659 - val_auc: 0.9763\n",
            "Epoch 68/100\n",
            "20/20 [==============================] - 0s 4ms/step - loss: 0.1614 - tp: 290.0000 - fp: 16.0000 - tn: 300.0000 - fn: 23.0000 - accuracy: 0.9380 - precision: 0.9477 - recall: 0.9265 - auc: 0.9818 - val_loss: 0.1871 - val_tp: 71.0000 - val_fp: 1.0000 - val_tn: 75.0000 - val_fn: 11.0000 - val_accuracy: 0.9241 - val_precision: 0.9861 - val_recall: 0.8659 - val_auc: 0.9762\n",
            "Epoch 69/100\n",
            "20/20 [==============================] - 0s 3ms/step - loss: 0.1798 - tp: 288.0000 - fp: 17.0000 - tn: 299.0000 - fn: 25.0000 - accuracy: 0.9332 - precision: 0.9443 - recall: 0.9201 - auc: 0.9776 - val_loss: 0.1886 - val_tp: 71.0000 - val_fp: 1.0000 - val_tn: 75.0000 - val_fn: 11.0000 - val_accuracy: 0.9241 - val_precision: 0.9861 - val_recall: 0.8659 - val_auc: 0.9772\n",
            "Epoch 70/100\n",
            "20/20 [==============================] - 0s 3ms/step - loss: 0.1722 - tp: 287.0000 - fp: 10.0000 - tn: 306.0000 - fn: 26.0000 - accuracy: 0.9428 - precision: 0.9663 - recall: 0.9169 - auc: 0.9785 - val_loss: 0.1843 - val_tp: 72.0000 - val_fp: 2.0000 - val_tn: 74.0000 - val_fn: 10.0000 - val_accuracy: 0.9241 - val_precision: 0.9730 - val_recall: 0.8780 - val_auc: 0.9775\n",
            "Epoch 71/100\n",
            "20/20 [==============================] - 0s 3ms/step - loss: 0.1661 - tp: 290.0000 - fp: 9.0000 - tn: 307.0000 - fn: 23.0000 - accuracy: 0.9491 - precision: 0.9699 - recall: 0.9265 - auc: 0.9807 - val_loss: 0.1847 - val_tp: 72.0000 - val_fp: 2.0000 - val_tn: 74.0000 - val_fn: 10.0000 - val_accuracy: 0.9241 - val_precision: 0.9730 - val_recall: 0.8780 - val_auc: 0.9767\n",
            "Epoch 72/100\n",
            "20/20 [==============================] - 0s 3ms/step - loss: 0.1568 - tp: 290.0000 - fp: 12.0000 - tn: 304.0000 - fn: 23.0000 - accuracy: 0.9444 - precision: 0.9603 - recall: 0.9265 - auc: 0.9846 - val_loss: 0.1868 - val_tp: 71.0000 - val_fp: 1.0000 - val_tn: 75.0000 - val_fn: 11.0000 - val_accuracy: 0.9241 - val_precision: 0.9861 - val_recall: 0.8659 - val_auc: 0.9774\n",
            "Epoch 73/100\n",
            "20/20 [==============================] - 0s 4ms/step - loss: 0.1411 - tp: 295.0000 - fp: 7.0000 - tn: 309.0000 - fn: 18.0000 - accuracy: 0.9603 - precision: 0.9768 - recall: 0.9425 - auc: 0.9875 - val_loss: 0.1901 - val_tp: 71.0000 - val_fp: 1.0000 - val_tn: 75.0000 - val_fn: 11.0000 - val_accuracy: 0.9241 - val_precision: 0.9861 - val_recall: 0.8659 - val_auc: 0.9764\n",
            "Epoch 74/100\n",
            "20/20 [==============================] - 0s 3ms/step - loss: 0.1667 - tp: 288.0000 - fp: 13.0000 - tn: 303.0000 - fn: 25.0000 - accuracy: 0.9396 - precision: 0.9568 - recall: 0.9201 - auc: 0.9805 - val_loss: 0.1876 - val_tp: 71.0000 - val_fp: 1.0000 - val_tn: 75.0000 - val_fn: 11.0000 - val_accuracy: 0.9241 - val_precision: 0.9861 - val_recall: 0.8659 - val_auc: 0.9779\n",
            "Epoch 75/100\n",
            "20/20 [==============================] - 0s 3ms/step - loss: 0.1638 - tp: 290.0000 - fp: 9.0000 - tn: 307.0000 - fn: 23.0000 - accuracy: 0.9491 - precision: 0.9699 - recall: 0.9265 - auc: 0.9804 - val_loss: 0.1875 - val_tp: 71.0000 - val_fp: 1.0000 - val_tn: 75.0000 - val_fn: 11.0000 - val_accuracy: 0.9241 - val_precision: 0.9861 - val_recall: 0.8659 - val_auc: 0.9766\n",
            "Epoch 76/100\n",
            "20/20 [==============================] - 0s 3ms/step - loss: 0.1669 - tp: 291.0000 - fp: 14.0000 - tn: 302.0000 - fn: 22.0000 - accuracy: 0.9428 - precision: 0.9541 - recall: 0.9297 - auc: 0.9802 - val_loss: 0.1885 - val_tp: 71.0000 - val_fp: 2.0000 - val_tn: 74.0000 - val_fn: 11.0000 - val_accuracy: 0.9177 - val_precision: 0.9726 - val_recall: 0.8659 - val_auc: 0.9767\n",
            "Epoch 77/100\n",
            "20/20 [==============================] - 0s 3ms/step - loss: 0.1685 - tp: 288.0000 - fp: 14.0000 - tn: 302.0000 - fn: 25.0000 - accuracy: 0.9380 - precision: 0.9536 - recall: 0.9201 - auc: 0.9815 - val_loss: 0.1895 - val_tp: 71.0000 - val_fp: 2.0000 - val_tn: 74.0000 - val_fn: 11.0000 - val_accuracy: 0.9177 - val_precision: 0.9726 - val_recall: 0.8659 - val_auc: 0.9771\n",
            "Epoch 78/100\n",
            "20/20 [==============================] - 0s 3ms/step - loss: 0.1549 - tp: 287.0000 - fp: 6.0000 - tn: 310.0000 - fn: 26.0000 - accuracy: 0.9491 - precision: 0.9795 - recall: 0.9169 - auc: 0.9808 - val_loss: 0.1879 - val_tp: 73.0000 - val_fp: 2.0000 - val_tn: 74.0000 - val_fn: 9.0000 - val_accuracy: 0.9304 - val_precision: 0.9733 - val_recall: 0.8902 - val_auc: 0.9768\n",
            "Epoch 79/100\n",
            "20/20 [==============================] - 0s 3ms/step - loss: 0.1803 - tp: 290.0000 - fp: 16.0000 - tn: 300.0000 - fn: 23.0000 - accuracy: 0.9380 - precision: 0.9477 - recall: 0.9265 - auc: 0.9751 - val_loss: 0.1855 - val_tp: 73.0000 - val_fp: 2.0000 - val_tn: 74.0000 - val_fn: 9.0000 - val_accuracy: 0.9304 - val_precision: 0.9733 - val_recall: 0.8902 - val_auc: 0.9776\n",
            "Epoch 80/100\n",
            "20/20 [==============================] - 0s 3ms/step - loss: 0.1638 - tp: 293.0000 - fp: 9.0000 - tn: 307.0000 - fn: 20.0000 - accuracy: 0.9539 - precision: 0.9702 - recall: 0.9361 - auc: 0.9795 - val_loss: 0.1846 - val_tp: 73.0000 - val_fp: 2.0000 - val_tn: 74.0000 - val_fn: 9.0000 - val_accuracy: 0.9304 - val_precision: 0.9733 - val_recall: 0.8902 - val_auc: 0.9778\n",
            "Epoch 81/100\n",
            "20/20 [==============================] - 0s 3ms/step - loss: 0.1757 - tp: 293.0000 - fp: 17.0000 - tn: 299.0000 - fn: 20.0000 - accuracy: 0.9412 - precision: 0.9452 - recall: 0.9361 - auc: 0.9781 - val_loss: 0.1860 - val_tp: 73.0000 - val_fp: 2.0000 - val_tn: 74.0000 - val_fn: 9.0000 - val_accuracy: 0.9304 - val_precision: 0.9733 - val_recall: 0.8902 - val_auc: 0.9779\n",
            "Epoch 82/100\n",
            "20/20 [==============================] - 0s 3ms/step - loss: 0.1540 - tp: 290.0000 - fp: 9.0000 - tn: 307.0000 - fn: 23.0000 - accuracy: 0.9491 - precision: 0.9699 - recall: 0.9265 - auc: 0.9827 - val_loss: 0.1865 - val_tp: 73.0000 - val_fp: 2.0000 - val_tn: 74.0000 - val_fn: 9.0000 - val_accuracy: 0.9304 - val_precision: 0.9733 - val_recall: 0.8902 - val_auc: 0.9783\n",
            "Epoch 83/100\n",
            "20/20 [==============================] - 0s 3ms/step - loss: 0.1620 - tp: 289.0000 - fp: 11.0000 - tn: 305.0000 - fn: 24.0000 - accuracy: 0.9444 - precision: 0.9633 - recall: 0.9233 - auc: 0.9821 - val_loss: 0.1849 - val_tp: 73.0000 - val_fp: 2.0000 - val_tn: 74.0000 - val_fn: 9.0000 - val_accuracy: 0.9304 - val_precision: 0.9733 - val_recall: 0.8902 - val_auc: 0.9776\n",
            "Epoch 84/100\n",
            "20/20 [==============================] - 0s 3ms/step - loss: 0.1521 - tp: 291.0000 - fp: 11.0000 - tn: 305.0000 - fn: 22.0000 - accuracy: 0.9475 - precision: 0.9636 - recall: 0.9297 - auc: 0.9829 - val_loss: 0.1865 - val_tp: 73.0000 - val_fp: 2.0000 - val_tn: 74.0000 - val_fn: 9.0000 - val_accuracy: 0.9304 - val_precision: 0.9733 - val_recall: 0.8902 - val_auc: 0.9778\n",
            "Epoch 85/100\n",
            "20/20 [==============================] - 0s 3ms/step - loss: 0.1569 - tp: 292.0000 - fp: 6.0000 - tn: 310.0000 - fn: 21.0000 - accuracy: 0.9571 - precision: 0.9799 - recall: 0.9329 - auc: 0.9809 - val_loss: 0.1844 - val_tp: 73.0000 - val_fp: 2.0000 - val_tn: 74.0000 - val_fn: 9.0000 - val_accuracy: 0.9304 - val_precision: 0.9733 - val_recall: 0.8902 - val_auc: 0.9775\n",
            "Epoch 86/100\n",
            "20/20 [==============================] - 0s 3ms/step - loss: 0.1591 - tp: 291.0000 - fp: 10.0000 - tn: 306.0000 - fn: 22.0000 - accuracy: 0.9491 - precision: 0.9668 - recall: 0.9297 - auc: 0.9818 - val_loss: 0.1845 - val_tp: 73.0000 - val_fp: 2.0000 - val_tn: 74.0000 - val_fn: 9.0000 - val_accuracy: 0.9304 - val_precision: 0.9733 - val_recall: 0.8902 - val_auc: 0.9774\n",
            "Epoch 87/100\n",
            "20/20 [==============================] - 0s 3ms/step - loss: 0.1553 - tp: 295.0000 - fp: 11.0000 - tn: 305.0000 - fn: 18.0000 - accuracy: 0.9539 - precision: 0.9641 - recall: 0.9425 - auc: 0.9816 - val_loss: 0.1866 - val_tp: 73.0000 - val_fp: 2.0000 - val_tn: 74.0000 - val_fn: 9.0000 - val_accuracy: 0.9304 - val_precision: 0.9733 - val_recall: 0.8902 - val_auc: 0.9783\n",
            "Epoch 88/100\n",
            "20/20 [==============================] - 0s 3ms/step - loss: 0.1460 - tp: 289.0000 - fp: 10.0000 - tn: 306.0000 - fn: 24.0000 - accuracy: 0.9459 - precision: 0.9666 - recall: 0.9233 - auc: 0.9867 - val_loss: 0.1847 - val_tp: 73.0000 - val_fp: 2.0000 - val_tn: 74.0000 - val_fn: 9.0000 - val_accuracy: 0.9304 - val_precision: 0.9733 - val_recall: 0.8902 - val_auc: 0.9780\n",
            "Epoch 89/100\n",
            "20/20 [==============================] - 0s 3ms/step - loss: 0.1672 - tp: 291.0000 - fp: 10.0000 - tn: 306.0000 - fn: 22.0000 - accuracy: 0.9491 - precision: 0.9668 - recall: 0.9297 - auc: 0.9789 - val_loss: 0.1864 - val_tp: 73.0000 - val_fp: 2.0000 - val_tn: 74.0000 - val_fn: 9.0000 - val_accuracy: 0.9304 - val_precision: 0.9733 - val_recall: 0.8902 - val_auc: 0.9784\n",
            "Epoch 90/100\n",
            "20/20 [==============================] - 0s 3ms/step - loss: 0.1645 - tp: 289.0000 - fp: 16.0000 - tn: 300.0000 - fn: 24.0000 - accuracy: 0.9364 - precision: 0.9475 - recall: 0.9233 - auc: 0.9823 - val_loss: 0.1850 - val_tp: 73.0000 - val_fp: 2.0000 - val_tn: 74.0000 - val_fn: 9.0000 - val_accuracy: 0.9304 - val_precision: 0.9733 - val_recall: 0.8902 - val_auc: 0.9787\n",
            "Epoch 91/100\n",
            "20/20 [==============================] - 0s 3ms/step - loss: 0.1385 - tp: 296.0000 - fp: 8.0000 - tn: 308.0000 - fn: 17.0000 - accuracy: 0.9603 - precision: 0.9737 - recall: 0.9457 - auc: 0.9855 - val_loss: 0.1847 - val_tp: 73.0000 - val_fp: 2.0000 - val_tn: 74.0000 - val_fn: 9.0000 - val_accuracy: 0.9304 - val_precision: 0.9733 - val_recall: 0.8902 - val_auc: 0.9787\n",
            "Epoch 92/100\n",
            "20/20 [==============================] - 0s 4ms/step - loss: 0.1653 - tp: 292.0000 - fp: 15.0000 - tn: 301.0000 - fn: 21.0000 - accuracy: 0.9428 - precision: 0.9511 - recall: 0.9329 - auc: 0.9788 - val_loss: 0.1856 - val_tp: 73.0000 - val_fp: 2.0000 - val_tn: 74.0000 - val_fn: 9.0000 - val_accuracy: 0.9304 - val_precision: 0.9733 - val_recall: 0.8902 - val_auc: 0.9784\n",
            "Epoch 93/100\n",
            "20/20 [==============================] - 0s 3ms/step - loss: 0.1633 - tp: 290.0000 - fp: 10.0000 - tn: 306.0000 - fn: 23.0000 - accuracy: 0.9475 - precision: 0.9667 - recall: 0.9265 - auc: 0.9801 - val_loss: 0.1845 - val_tp: 73.0000 - val_fp: 2.0000 - val_tn: 74.0000 - val_fn: 9.0000 - val_accuracy: 0.9304 - val_precision: 0.9733 - val_recall: 0.8902 - val_auc: 0.9785\n",
            "Epoch 94/100\n",
            "20/20 [==============================] - 0s 3ms/step - loss: 0.1598 - tp: 292.0000 - fp: 13.0000 - tn: 303.0000 - fn: 21.0000 - accuracy: 0.9459 - precision: 0.9574 - recall: 0.9329 - auc: 0.9804 - val_loss: 0.1848 - val_tp: 73.0000 - val_fp: 2.0000 - val_tn: 74.0000 - val_fn: 9.0000 - val_accuracy: 0.9304 - val_precision: 0.9733 - val_recall: 0.8902 - val_auc: 0.9780\n",
            "Epoch 95/100\n",
            "20/20 [==============================] - 0s 3ms/step - loss: 0.1538 - tp: 295.0000 - fp: 17.0000 - tn: 299.0000 - fn: 18.0000 - accuracy: 0.9444 - precision: 0.9455 - recall: 0.9425 - auc: 0.9832 - val_loss: 0.1862 - val_tp: 73.0000 - val_fp: 2.0000 - val_tn: 74.0000 - val_fn: 9.0000 - val_accuracy: 0.9304 - val_precision: 0.9733 - val_recall: 0.8902 - val_auc: 0.9786\n",
            "Epoch 96/100\n",
            "20/20 [==============================] - 0s 3ms/step - loss: 0.1675 - tp: 291.0000 - fp: 9.0000 - tn: 307.0000 - fn: 22.0000 - accuracy: 0.9507 - precision: 0.9700 - recall: 0.9297 - auc: 0.9764 - val_loss: 0.1868 - val_tp: 73.0000 - val_fp: 2.0000 - val_tn: 74.0000 - val_fn: 9.0000 - val_accuracy: 0.9304 - val_precision: 0.9733 - val_recall: 0.8902 - val_auc: 0.9779\n",
            "Epoch 97/100\n",
            "20/20 [==============================] - 0s 3ms/step - loss: 0.1533 - tp: 292.0000 - fp: 14.0000 - tn: 302.0000 - fn: 21.0000 - accuracy: 0.9444 - precision: 0.9542 - recall: 0.9329 - auc: 0.9838 - val_loss: 0.1863 - val_tp: 73.0000 - val_fp: 2.0000 - val_tn: 74.0000 - val_fn: 9.0000 - val_accuracy: 0.9304 - val_precision: 0.9733 - val_recall: 0.8902 - val_auc: 0.9779\n",
            "Epoch 98/100\n",
            "20/20 [==============================] - 0s 3ms/step - loss: 0.1439 - tp: 292.0000 - fp: 7.0000 - tn: 309.0000 - fn: 21.0000 - accuracy: 0.9555 - precision: 0.9766 - recall: 0.9329 - auc: 0.9846 - val_loss: 0.1868 - val_tp: 73.0000 - val_fp: 2.0000 - val_tn: 74.0000 - val_fn: 9.0000 - val_accuracy: 0.9304 - val_precision: 0.9733 - val_recall: 0.8902 - val_auc: 0.9779\n",
            "Epoch 99/100\n",
            "20/20 [==============================] - 0s 3ms/step - loss: 0.1529 - tp: 295.0000 - fp: 13.0000 - tn: 303.0000 - fn: 18.0000 - accuracy: 0.9507 - precision: 0.9578 - recall: 0.9425 - auc: 0.9827 - val_loss: 0.1881 - val_tp: 73.0000 - val_fp: 2.0000 - val_tn: 74.0000 - val_fn: 9.0000 - val_accuracy: 0.9304 - val_precision: 0.9733 - val_recall: 0.8902 - val_auc: 0.9793\n",
            "Epoch 100/100\n",
            "20/20 [==============================] - 0s 3ms/step - loss: 0.1469 - tp: 293.0000 - fp: 12.0000 - tn: 304.0000 - fn: 20.0000 - accuracy: 0.9491 - precision: 0.9607 - recall: 0.9361 - auc: 0.9837 - val_loss: 0.1900 - val_tp: 73.0000 - val_fp: 2.0000 - val_tn: 74.0000 - val_fn: 9.0000 - val_accuracy: 0.9304 - val_precision: 0.9733 - val_recall: 0.8902 - val_auc: 0.9788\n"
          ],
          "name": "stdout"
        }
      ]
    },
    {
      "cell_type": "markdown",
      "metadata": {
        "id": "ibQrtbDq9QkK"
      },
      "source": [
        "### Check training history"
      ]
    },
    {
      "cell_type": "code",
      "metadata": {
        "id": "CcGPB7G79J-i",
        "outputId": "abb7df40-1d08-44f4-cb46-87af0a28d449",
        "colab": {
          "base_uri": "https://localhost:8080/",
          "height": 609
        }
      },
      "source": [
        "plot_metrics(under_history,color_num=2)"
      ],
      "execution_count": null,
      "outputs": [
        {
          "output_type": "display_data",
          "data": {
            "image/png": "[encoded data removed]",
            "text/plain": [
              "<Figure size 864x720 with 4 Axes>"
            ]
          },
          "metadata": {
            "tags": [],
            "needs_background": "light"
          }
        }
      ]
    },
    {
      "cell_type": "markdown",
      "metadata": {
        "id": "A8jYdpO_KWxe"
      },
      "source": [
        "The model is not overfitting."
      ]
    },
    {
      "cell_type": "markdown",
      "metadata": {
        "id": "PuGEgppr9gb9"
      },
      "source": [
        "###Evaluate metrics"
      ]
    },
    {
      "cell_type": "code",
      "metadata": {
        "id": "mnGElGAh9SxQ",
        "outputId": "32c17664-14e3-4573-ef7b-6db09f500231",
        "colab": {
          "base_uri": "https://localhost:8080/",
          "height": 602
        }
      },
      "source": [
        "train_predictions_under = under_model.predict(train_under_features, batch_size=BATCH_SIZE)\n",
        "test_predictions_under = under_model.predict(test_under_features, batch_size=BATCH_SIZE)\n",
        "\n",
        "under_results = under_model.evaluate(test_under_features, test_under_labels,\n",
        "                                           batch_size=BATCH_SIZE, verbose=0)\n",
        "for name, value in zip(under_model.metrics_names, under_results):\n",
        "  print(name, ': ', value)\n",
        "print()\n",
        "\n",
        "plot_cm(test_under_labels, test_predictions_under)"
      ],
      "execution_count": null,
      "outputs": [
        {
          "output_type": "stream",
          "text": [
            "loss :  0.0644613578915596\n",
            "tp :  95.0\n",
            "fp :  0.0\n",
            "tn :  100.0\n",
            "fn :  2.0\n",
            "accuracy :  0.989847719669342\n",
            "precision :  1.0\n",
            "recall :  0.9793814420700073\n",
            "auc :  0.9994329810142517\n",
            "\n",
            "Legitimate Transactions Detected (True Negatives):  100\n",
            "Legitimate Transactions Incorrectly Detected (False Positives):  0\n",
            "Fraudulent Transactions Missed (False Negatives):  2\n",
            "Fraudulent Transactions Detected (True Positives):  95\n",
            "Total Fraudulent Transactions:  97\n"
          ],
          "name": "stdout"
        },
        {
          "output_type": "display_data",
          "data": {
            "image/png": "[encoded data removed]",
            "text/plain": [
              "<Figure size 360x360 with 2 Axes>"
            ]
          },
          "metadata": {
            "tags": [],
            "needs_background": "light"
          }
        }
      ]
    },
    {
      "cell_type": "markdown",
      "metadata": {
        "id": "oXQLDX02ErCI"
      },
      "source": [
        "This is a very good result. We only 5 undetected frauds out of 105, and 1 legitimate transaction classified as a fraud. This gives us a high recall of 95%, but also a great precision of 99%, which is better than the class weight model which gave a good recall, but a bad precision. Therefore, undersampling seems like a good approach to the problem.\n",
        "\n",
        "###Plot the ROC curve"
      ]
    },
    {
      "cell_type": "code",
      "metadata": {
        "id": "h7jVUnQd93B4",
        "outputId": "e6503d96-08d6-4e05-a3ea-1e994402592e",
        "colab": {
          "base_uri": "https://localhost:8080/",
          "height": 624
        }
      },
      "source": [
        "plot_roc(\"Train Baseline\", train_labels, train_predictions_baseline, color=colors[0])\n",
        "plot_roc(\"Test Baseline\", test_labels, test_predictions_baseline, color=colors[0], linestyle='--')\n",
        "\n",
        "plot_roc(\"Train Weighted\", train_labels, train_predictions_weighted, color=colors[1])\n",
        "plot_roc(\"Test Weighted\", test_labels, test_predictions_weighted, color=colors[1], linestyle='--')\n",
        "\n",
        "plot_roc(\"Train Undersampled\", train_under_labels, train_predictions_under, color=colors[2])\n",
        "plot_roc(\"Test Undersampled\", test_under_labels, test_predictions_under, color=colors[2], linestyle='--')\n",
        "\n",
        "plt.legend(loc='lower right')"
      ],
      "execution_count": null,
      "outputs": [
        {
          "output_type": "execute_result",
          "data": {
            "text/plain": [
              "<matplotlib.legend.Legend at 0x7f06abf4fac8>"
            ]
          },
          "metadata": {
            "tags": []
          },
          "execution_count": 445
        },
        {
          "output_type": "display_data",
          "data": {
            "image/png": "[encoded data removed]",
            "text/plain": [
              "<Figure size 864x720 with 1 Axes>"
            ]
          },
          "metadata": {
            "tags": [],
            "needs_background": "light"
          }
        }
      ]
    },
    {
      "cell_type": "markdown",
      "metadata": {
        "id": "Vl5h25e-NJjU"
      },
      "source": [
        "##Oversampling\n",
        "\n",
        "A third way to deal with the imbalanced dataset is to oversample the dataset with the minority class."
      ]
    },
    {
      "cell_type": "code",
      "metadata": {
        "id": "KDA8Z9g3GGTl"
      },
      "source": [
        "pos_features = train_features[bool_train_labels]\n",
        "neg_features = train_features[~bool_train_labels]\n",
        "\n",
        "pos_labels = train_labels[bool_train_labels]\n",
        "neg_labels = train_labels[~bool_train_labels]\n",
        "\n",
        "ids = np.arange(len(pos_features))\n",
        "choices = np.random.choice(ids, len(neg_features))\n",
        "\n",
        "res_pos_features = pos_features[choices]\n",
        "res_pos_labels = pos_labels[choices]\n",
        "\n",
        "res_pos_features.shape"
      ],
      "execution_count": null,
      "outputs": []
    },
    {
      "cell_type": "code",
      "metadata": {
        "id": "tUQYjd02OMsS"
      },
      "source": [
        ""
      ],
      "execution_count": null,
      "outputs": []
    }
  ]
}